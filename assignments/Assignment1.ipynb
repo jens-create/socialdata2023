{
 "cells": [
  {
   "cell_type": "markdown",
   "metadata": {},
   "source": [
    "# Assignment 1\n",
    "\n",
    "## Formalia:\n",
    "\n",
    "Please read the [assignment overview page](https://github.com/suneman/socialdata2023/wiki/Assignments) carefully before proceeding. This page contains information about formatting (including formats etc.), group sizes, and many other aspects of handing in the assignment. \n",
    "\n",
    "_If you fail to follow these simple instructions, it will negatively impact your grade!_\n",
    "\n",
    "**Due date and time**: The assignment is due on Monday February 27th, 2023 at 23:55. Hand in your files via [http://peergrade.io](http://peergrade.io/).\n",
    "\n",
    "**Peergrading date and time**: _Remember that after handing in you have 1 week to evaluate a few assignments written by other members of the class_. "
   ]
  },
  {
   "cell_type": "markdown",
   "metadata": {},
   "source": [
    "## A1 Part 1: Visualizing patterns in the data\n",
    "\n",
    "In this sub-assignment, we recreate some of the plots from Week 2. We look only at the focus-crimes."
   ]
  },
  {
   "cell_type": "code",
   "execution_count": 1,
   "metadata": {},
   "outputs": [],
   "source": [
    "focuscrimes = set(['WEAPON LAWS', 'PROSTITUTION', 'DRIVING UNDER THE INFLUENCE', 'ROBBERY', 'BURGLARY', 'ASSAULT', 'DRUNKENNESS', 'DRUG/NARCOTIC', 'TRESPASS', 'LARCENY/THEFT', 'VANDALISM', 'VEHICLE THEFT', 'STOLEN PROPERTY', 'DISORDERLY CONDUCT'])"
   ]
  },
  {
   "cell_type": "markdown",
   "metadata": {},
   "source": [
    "For each set of plots below, describe the plots (as you would in the figure text in a report or paper), and pick a few aspects that stand out to you and comment on those (we provided a couple of ideas during class but it's OK to add more).\n",
    "\n",
    "* First create the week-day plots, the months, the 24-hour cycle, and the 168 hours of the week as barcharts (Week 2, Part 2).\n",
    "* Next choose a crime type that you like and create a calendar plot (Week 2, Part 4). Don't forget to comment on patterns you observe.\n",
    "* Finally, choose a different crime type and create a polar plot of its 24hour cycle (Week 2, Part 4). Again, don't forget to comment as you would in a figure text."
   ]
  },
  {
   "cell_type": "markdown",
   "metadata": {},
   "source": [
    "## A1 Part 2: Dataviz questions \n",
    "\n",
    "Have a look at the encoding dataviz lecture (Week 4), then answer the following questions in your own words. \n",
    "\n",
    "* Mention 10 examples of ways we can encode data.\n",
    "* Are all encodings created equally? Why not? Can you think of an example from the previous lectures?\n",
    "* Mention 3 encodings that are difficult for the human eye to parse. Can you find an example of a visualization online that uses one of those three?\n",
    "* Explain in your own words: What is the problem with pie-charts?"
   ]
  },
  {
   "attachments": {},
   "cell_type": "markdown",
   "metadata": {},
   "source": [
    "**Mention 10 examples of ways we can encode data**\n",
    "\n",
    "A visualization maps data to visual encodings such as;\n",
    "- position, length, area, shape, color, angle, line weight, line ending, texture, pattern, nodes, links\n",
    "\n",
    "\n",
    "**Are all encodings created equally? Why not? Can you think of an example from the previous lectures?**\n",
    "\n",
    "Different encodings have varying strengths and limitations, which can impact how effectively data is conveyed and interpreted by viewers. The effectiveness of an encoding can be influenced by factors such as data complexity, visualization goals, and audience characteristics. Therefore, it's important to carefully consider encodings when designing visualizations, and to choose appropriate encodings.\n",
    "\n",
    "During Lecture 1, a bar chart was used to visualize the yearly frequency of a particular type of crime throughout the data period of 2003-2017. The bar chart was an effective choice for conveying this information, as it allowed the audience to easily observe and understand the development of the crime frequency over time.\n",
    "\n",
    "During Lecture 2, we visualized an enriched version of the same crime frequency data using a calendar plot. The calendar plot displayed the daily frequency of the crime type, and utilized additional encodings, such as color, to represent the frequency. By using color in addition to the position of each day on the calendar, the calendar plot allowed for a more nuanced and detailed understanding of the daily fluctuations in crime frequency over time. This would not have been easily conveyed using a bar chart.\n",
    "\n",
    "\n",
    "**Mention 3 encodings that are difficult for the human eye to parse. Can you find an example of a visualization online that uses one of those three?**\n",
    "\n",
    "- Angle: Differences in angle can be difficult to accurately perceive and compare, especially when they are small or subtle.\n",
    "\n",
    "- Color intensity: Color intensity can be challenging to accurately perceive and compare due to factors such as variations in lighting conditions and individual biases.\n",
    "\n",
    "- Area: Differences in area can be challenging to accurately perceive and compare when they are small or subtle, and can be easily distorted by visual cues such as shading or texture. Additionally, scaling areas appropriately can be difficult in some cases. This is a bit similar to angles.\n",
    "\n",
    "An example where the angle encoding is used is the pie chart in the [medium](https://medium.com/the-mission/to-pie-charts-3b1f57bcb34a) article which describes poor visualizations and in particular why pie charts should not be used.\n",
    "\n",
    "\n",
    "\n",
    "<div>\n",
    "<img src=\"https://raw.githubusercontent.com/jens-create/socialdata2023/main/files/pie.png\" width=\"400\"/>\n",
    "</div>\n",
    "\n",
    "The pie chart shows the proportions of different animals in a population. The visualisation is supposed to convey the proporiton of the animals, however, this is very difficult to comprehend. Are there more Cats or Goats? The fact that we cannot answer this question is a clear example of how humans have a difficult to perceive angles. Thus, this illustration are using angles in a poor way.\n",
    "\n",
    "\n",
    "**Explain in your own words: What is the problem with pie-charts?**\n",
    "\n",
    "Pie charts are often criticized for their use of angles to represent proportions or percentages. This is because the human eye can have difficulty accurately perceiving and comparing differences in angles, especially when the differences are small or subtle. It in generally recommmended to use other visual encodings such as bar charts to represent proportions or percentages, as these encodings can be easier to accurately perceive and compare.\n",
    "\n",
    "**Er mine eksempler ok?**\n",
    "Det er jo lidt counter intuitivt at vælge et eksempel fra nettet hvor man netop basher piecharts."
   ]
  },
  {
   "cell_type": "markdown",
   "metadata": {},
   "source": [
    "## A1 Part 3: Visualizing geodata using Plotly\n",
    "\n",
    "In this sub-assignment I want you to create a choropleth map of San Francisco, showing where it's safest to leave your car on Sundays, following the instructions from Week 3.\n",
    "\n",
    "When you're done, reflect on the following questions.\n",
    "\n",
    "* Based on your map and analysis, where should you park the car for it to be safest on a Sunday? And where's the worst place?\n",
    "* Using visualizatios can help us uncover powerful data-patterns. However, when designing visualizations, we need to be aware of several illusions that can lead viewers to misinterpret the data we are showing (i.e. perceptual errors):\n",
    "   - Try to change the range of data-values in the plot above. Is there a way to make the difference between district less evident?\n",
    "   - Why do you think perceptual errors are a problem? Try to think of a few examples. "
   ]
  },
  {
   "cell_type": "markdown",
   "metadata": {},
   "source": [
    "## A1 Part 4: Errors in the data\n",
    "\n",
    "We started the course by plotting simple histogram and bar plots that showed a lot of cool patterns. But sometimes the binning can hide imprecision, irregularity, and simple errors in the data that could be misleading. In the work we've done so far, we've already come across at least three examples of this in the SF data (listed in Part 3 of Week 4). \n",
    "\n",
    "The data errors we discovered at the end of Week 4 become difficult to notice when we aggregate data (and when we calculate mean values, as well as statistics more generally). Thus, when we visualize, errors become difficult to notice when binning the data. We explore this process in the exercise below.\n",
    "\n",
    "* In each of the 3 examples we listed during Week 4, describe in your own words how the data-errors I call attention to above can bias the binned versions of the data. \n",
    "* Also, briefly mention how not noticing these errors can result in misconceptions about the underlying patterns of what's going on in San Francisco (and our modeling).\n",
    "* Find your own example of human noise in the data and visualize it."
   ]
  },
  {
   "attachments": {},
   "cell_type": "markdown",
   "metadata": {},
   "source": [
    "\n",
    "**In each of the 3 examples we listed during Week 4, describe in your own words how the data-errors I call attention to above can bias the binned versions of the data.**\n",
    "\n",
    "Regarding the spike in crime frequency on Thursdays, if we only look at binned data, we might mistakenly conclude that crime is more likely to occur on Thursdays than on other days of the week. This could lead to an incorrect allocation of police resources, for example. Similarly, the binned data might suggest that there is some sort of regularity or pattern in the occurrence of crimes with timestamps of :00, :15, :30 or :45, when in reality this could be due to data collection errors or biases.\n",
    "\n",
    "**Also, briefly mention how not noticing these errors can result in misconceptions about the underlying patterns of what's going on in San Francisco (and our modeling).**\n",
    "\n",
    "Not noticing these errors can result in misconceptions about the underlying patterns of crime in San Francisco, which can ultimately impact policy and decision-making.\n",
    "\n",
    "**Find your own example of human noise in the data and visualize it.**\n",
    "\n",
    "???"
   ]
  }
 ],
 "metadata": {
  "kernelspec": {
   "display_name": "socialdata",
   "language": "python",
   "name": "python3"
  },
  "language_info": {
   "codemirror_mode": {
    "name": "ipython",
    "version": 3
   },
   "file_extension": ".py",
   "mimetype": "text/x-python",
   "name": "python",
   "nbconvert_exporter": "python",
   "pygments_lexer": "ipython3",
   "version": "3.9.16"
  },
  "vscode": {
   "interpreter": {
    "hash": "9b9315f95745a5791aeab84d607df543b0a11756a642ea248ba883f5d97da62c"
   }
  }
 },
 "nbformat": 4,
 "nbformat_minor": 4
}
