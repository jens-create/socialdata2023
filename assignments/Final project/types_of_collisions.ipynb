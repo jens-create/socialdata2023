{
 "cells": [
  {
   "cell_type": "code",
   "execution_count": 4,
   "metadata": {},
   "outputs": [],
   "source": [
    "# import libraries\n",
    "import pandas as pd\n",
    "import numpy as np\n",
    "import matplotlib.pyplot as plt\n",
    "import seaborn as sns\n",
    "from meteostat import Point, Hourly\n",
    "from datetime import datetime\n",
    "from pandas.api.types import CategoricalDtype\n",
    "\n",
    "#set notebook options\n",
    "pd.options.mode.chained_assignment = None \n",
    "pd.set_option('display.max_columns', None)\n",
    "plt.rcParams.update({'font.size': 10})\n",
    "sns.set_style(\"white\")\n",
    "plt_color = 'cadetblue'"
   ]
  },
  {
   "cell_type": "code",
   "execution_count": 13,
   "metadata": {},
   "outputs": [
    {
     "data": {
      "text/html": [
       "<style>\n",
       "        .bk-notebook-logo {\n",
       "            display: block;\n",
       "            width: 20px;\n",
       "            height: 20px;\n",
       "            background-image: url(data:image/png;base64,iVBORw0KGgoAAAANSUhEUgAAABQAAAAUCAYAAACNiR0NAAAABHNCSVQICAgIfAhkiAAAAAlwSFlzAAALEgAACxIB0t1+/AAAABx0RVh0U29mdHdhcmUAQWRvYmUgRmlyZXdvcmtzIENTNui8sowAAAOkSURBVDiNjZRtaJVlGMd/1/08zzln5zjP1LWcU9N0NkN8m2CYjpgQYQXqSs0I84OLIC0hkEKoPtiH3gmKoiJDU7QpLgoLjLIQCpEsNJ1vqUOdO7ppbuec5+V+rj4ctwzd8IIbbi6u+8f1539dt3A78eXC7QizUF7gyV1fD1Yqg4JWz84yffhm0qkFqBogB9rM8tZdtwVsPUhWhGcFJngGeWrPzHm5oaMmkfEg1usvLFyc8jLRqDOMru7AyC8saQr7GG7f5fvDeH7Ej8CM66nIF+8yngt6HWaKh7k49Soy9nXurCi1o3qUbS3zWfrYeQDTB/Qj6kX6Ybhw4B+bOYoLKCC9H3Nu/leUTZ1JdRWkkn2ldcCamzrcf47KKXdAJllSlxAOkRgyHsGC/zRday5Qld9DyoM4/q/rUoy/CXh3jzOu3bHUVZeU+DEn8FInkPBFlu3+nW3Nw0mk6vCDiWg8CeJaxEwuHS3+z5RgY+YBR6V1Z1nxSOfoaPa4LASWxxdNp+VWTk7+4vzaou8v8PN+xo+KY2xsw6une2frhw05CTYOmQvsEhjhWjn0bmXPjpE1+kplmmkP3suftwTubK9Vq22qKmrBhpY4jvd5afdRA3wGjFAgcnTK2s4hY0/GPNIb0nErGMCRxWOOX64Z8RAC4oCXdklmEvcL8o0BfkNK4lUg9HTl+oPlQxdNo3Mg4Nv175e/1LDGzZen30MEjRUtmXSfiTVu1kK8W4txyV6BMKlbgk3lMwYCiusNy9fVfvvwMxv8Ynl6vxoByANLTWplvuj/nF9m2+PDtt1eiHPBr1oIfhCChQMBw6Aw0UulqTKZdfVvfG7VcfIqLG9bcldL/+pdWTLxLUy8Qq38heUIjh4XlzZxzQm19lLFlr8vdQ97rjZVOLf8nclzckbcD4wxXMidpX30sFd37Fv/GtwwhzhxGVAprjbg0gCAEeIgwCZyTV2Z1REEW8O4py0wsjeloKoMr6iCY6dP92H6Vw/oTyICIthibxjm/DfN9lVz8IqtqKYLUXfoKVMVQVVJOElGjrnnUt9T9wbgp8AyYKaGlqingHZU/uG2NTZSVqwHQTWkx9hxjkpWDaCg6Ckj5qebgBVbT3V3NNXMSiWSDdGV3hrtzla7J+duwPOToIg42ChPQOQjspnSlp1V+Gjdged7+8UN5CRAV7a5EdFNwCjEaBR27b3W890TE7g24NAP/mMDXRWrGoFPQI9ls/MWO2dWFAar/xcOIImbbpA3zgAAAABJRU5ErkJggg==);\n",
       "        }\n",
       "    </style>\n",
       "    <div>\n",
       "        <a href=\"https://bokeh.org\" target=\"_blank\" class=\"bk-notebook-logo\"></a>\n",
       "        <span id=\"p1001\">Loading BokehJS ...</span>\n",
       "    </div>\n"
      ]
     },
     "metadata": {},
     "output_type": "display_data"
    },
    {
     "data": {
      "application/javascript": "(function(root) {\n  function now() {\n    return new Date();\n  }\n\n  const force = true;\n\n  if (typeof root._bokeh_onload_callbacks === \"undefined\" || force === true) {\n    root._bokeh_onload_callbacks = [];\n    root._bokeh_is_loading = undefined;\n  }\n\nconst JS_MIME_TYPE = 'application/javascript';\n  const HTML_MIME_TYPE = 'text/html';\n  const EXEC_MIME_TYPE = 'application/vnd.bokehjs_exec.v0+json';\n  const CLASS_NAME = 'output_bokeh rendered_html';\n\n  /**\n   * Render data to the DOM node\n   */\n  function render(props, node) {\n    const script = document.createElement(\"script\");\n    node.appendChild(script);\n  }\n\n  /**\n   * Handle when an output is cleared or removed\n   */\n  function handleClearOutput(event, handle) {\n    const cell = handle.cell;\n\n    const id = cell.output_area._bokeh_element_id;\n    const server_id = cell.output_area._bokeh_server_id;\n    // Clean up Bokeh references\n    if (id != null && id in Bokeh.index) {\n      Bokeh.index[id].model.document.clear();\n      delete Bokeh.index[id];\n    }\n\n    if (server_id !== undefined) {\n      // Clean up Bokeh references\n      const cmd_clean = \"from bokeh.io.state import curstate; print(curstate().uuid_to_server['\" + server_id + \"'].get_sessions()[0].document.roots[0]._id)\";\n      cell.notebook.kernel.execute(cmd_clean, {\n        iopub: {\n          output: function(msg) {\n            const id = msg.content.text.trim();\n            if (id in Bokeh.index) {\n              Bokeh.index[id].model.document.clear();\n              delete Bokeh.index[id];\n            }\n          }\n        }\n      });\n      // Destroy server and session\n      const cmd_destroy = \"import bokeh.io.notebook as ion; ion.destroy_server('\" + server_id + \"')\";\n      cell.notebook.kernel.execute(cmd_destroy);\n    }\n  }\n\n  /**\n   * Handle when a new output is added\n   */\n  function handleAddOutput(event, handle) {\n    const output_area = handle.output_area;\n    const output = handle.output;\n\n    // limit handleAddOutput to display_data with EXEC_MIME_TYPE content only\n    if ((output.output_type != \"display_data\") || (!Object.prototype.hasOwnProperty.call(output.data, EXEC_MIME_TYPE))) {\n      return\n    }\n\n    const toinsert = output_area.element.find(\".\" + CLASS_NAME.split(' ')[0]);\n\n    if (output.metadata[EXEC_MIME_TYPE][\"id\"] !== undefined) {\n      toinsert[toinsert.length - 1].firstChild.textContent = output.data[JS_MIME_TYPE];\n      // store reference to embed id on output_area\n      output_area._bokeh_element_id = output.metadata[EXEC_MIME_TYPE][\"id\"];\n    }\n    if (output.metadata[EXEC_MIME_TYPE][\"server_id\"] !== undefined) {\n      const bk_div = document.createElement(\"div\");\n      bk_div.innerHTML = output.data[HTML_MIME_TYPE];\n      const script_attrs = bk_div.children[0].attributes;\n      for (let i = 0; i < script_attrs.length; i++) {\n        toinsert[toinsert.length - 1].firstChild.setAttribute(script_attrs[i].name, script_attrs[i].value);\n        toinsert[toinsert.length - 1].firstChild.textContent = bk_div.children[0].textContent\n      }\n      // store reference to server id on output_area\n      output_area._bokeh_server_id = output.metadata[EXEC_MIME_TYPE][\"server_id\"];\n    }\n  }\n\n  function register_renderer(events, OutputArea) {\n\n    function append_mime(data, metadata, element) {\n      // create a DOM node to render to\n      const toinsert = this.create_output_subarea(\n        metadata,\n        CLASS_NAME,\n        EXEC_MIME_TYPE\n      );\n      this.keyboard_manager.register_events(toinsert);\n      // Render to node\n      const props = {data: data, metadata: metadata[EXEC_MIME_TYPE]};\n      render(props, toinsert[toinsert.length - 1]);\n      element.append(toinsert);\n      return toinsert\n    }\n\n    /* Handle when an output is cleared or removed */\n    events.on('clear_output.CodeCell', handleClearOutput);\n    events.on('delete.Cell', handleClearOutput);\n\n    /* Handle when a new output is added */\n    events.on('output_added.OutputArea', handleAddOutput);\n\n    /**\n     * Register the mime type and append_mime function with output_area\n     */\n    OutputArea.prototype.register_mime_type(EXEC_MIME_TYPE, append_mime, {\n      /* Is output safe? */\n      safe: true,\n      /* Index of renderer in `output_area.display_order` */\n      index: 0\n    });\n  }\n\n  // register the mime type if in Jupyter Notebook environment and previously unregistered\n  if (root.Jupyter !== undefined) {\n    const events = require('base/js/events');\n    const OutputArea = require('notebook/js/outputarea').OutputArea;\n\n    if (OutputArea.prototype.mime_types().indexOf(EXEC_MIME_TYPE) == -1) {\n      register_renderer(events, OutputArea);\n    }\n  }\n  if (typeof (root._bokeh_timeout) === \"undefined\" || force === true) {\n    root._bokeh_timeout = Date.now() + 5000;\n    root._bokeh_failed_load = false;\n  }\n\n  const NB_LOAD_WARNING = {'data': {'text/html':\n     \"<div style='background-color: #fdd'>\\n\"+\n     \"<p>\\n\"+\n     \"BokehJS does not appear to have successfully loaded. If loading BokehJS from CDN, this \\n\"+\n     \"may be due to a slow or bad network connection. Possible fixes:\\n\"+\n     \"</p>\\n\"+\n     \"<ul>\\n\"+\n     \"<li>re-rerun `output_notebook()` to attempt to load from CDN again, or</li>\\n\"+\n     \"<li>use INLINE resources instead, as so:</li>\\n\"+\n     \"</ul>\\n\"+\n     \"<code>\\n\"+\n     \"from bokeh.resources import INLINE\\n\"+\n     \"output_notebook(resources=INLINE)\\n\"+\n     \"</code>\\n\"+\n     \"</div>\"}};\n\n  function display_loaded() {\n    const el = document.getElementById(\"p1001\");\n    if (el != null) {\n      el.textContent = \"BokehJS is loading...\";\n    }\n    if (root.Bokeh !== undefined) {\n      if (el != null) {\n        el.textContent = \"BokehJS \" + root.Bokeh.version + \" successfully loaded.\";\n      }\n    } else if (Date.now() < root._bokeh_timeout) {\n      setTimeout(display_loaded, 100)\n    }\n  }\n\n  function run_callbacks() {\n    try {\n      root._bokeh_onload_callbacks.forEach(function(callback) {\n        if (callback != null)\n          callback();\n      });\n    } finally {\n      delete root._bokeh_onload_callbacks\n    }\n    console.debug(\"Bokeh: all callbacks have finished\");\n  }\n\n  function load_libs(css_urls, js_urls, callback) {\n    if (css_urls == null) css_urls = [];\n    if (js_urls == null) js_urls = [];\n\n    root._bokeh_onload_callbacks.push(callback);\n    if (root._bokeh_is_loading > 0) {\n      console.debug(\"Bokeh: BokehJS is being loaded, scheduling callback at\", now());\n      return null;\n    }\n    if (js_urls == null || js_urls.length === 0) {\n      run_callbacks();\n      return null;\n    }\n    console.debug(\"Bokeh: BokehJS not loaded, scheduling load and callback at\", now());\n    root._bokeh_is_loading = css_urls.length + js_urls.length;\n\n    function on_load() {\n      root._bokeh_is_loading--;\n      if (root._bokeh_is_loading === 0) {\n        console.debug(\"Bokeh: all BokehJS libraries/stylesheets loaded\");\n        run_callbacks()\n      }\n    }\n\n    function on_error(url) {\n      console.error(\"failed to load \" + url);\n    }\n\n    for (let i = 0; i < css_urls.length; i++) {\n      const url = css_urls[i];\n      const element = document.createElement(\"link\");\n      element.onload = on_load;\n      element.onerror = on_error.bind(null, url);\n      element.rel = \"stylesheet\";\n      element.type = \"text/css\";\n      element.href = url;\n      console.debug(\"Bokeh: injecting link tag for BokehJS stylesheet: \", url);\n      document.body.appendChild(element);\n    }\n\n    for (let i = 0; i < js_urls.length; i++) {\n      const url = js_urls[i];\n      const element = document.createElement('script');\n      element.onload = on_load;\n      element.onerror = on_error.bind(null, url);\n      element.async = false;\n      element.src = url;\n      console.debug(\"Bokeh: injecting script tag for BokehJS library: \", url);\n      document.head.appendChild(element);\n    }\n  };\n\n  function inject_raw_css(css) {\n    const element = document.createElement(\"style\");\n    element.appendChild(document.createTextNode(css));\n    document.body.appendChild(element);\n  }\n\n  const js_urls = [\"https://cdn.bokeh.org/bokeh/release/bokeh-3.0.3.min.js\", \"https://cdn.bokeh.org/bokeh/release/bokeh-gl-3.0.3.min.js\", \"https://cdn.bokeh.org/bokeh/release/bokeh-widgets-3.0.3.min.js\", \"https://cdn.bokeh.org/bokeh/release/bokeh-tables-3.0.3.min.js\", \"https://cdn.bokeh.org/bokeh/release/bokeh-mathjax-3.0.3.min.js\"];\n  const css_urls = [];\n\n  const inline_js = [    function(Bokeh) {\n      Bokeh.set_log_level(\"info\");\n    },\nfunction(Bokeh) {\n    }\n  ];\n\n  function run_inline_js() {\n    if (root.Bokeh !== undefined || force === true) {\n          for (let i = 0; i < inline_js.length; i++) {\n      inline_js[i].call(root, root.Bokeh);\n    }\nif (force === true) {\n        display_loaded();\n      }} else if (Date.now() < root._bokeh_timeout) {\n      setTimeout(run_inline_js, 100);\n    } else if (!root._bokeh_failed_load) {\n      console.log(\"Bokeh: BokehJS failed to load within specified timeout.\");\n      root._bokeh_failed_load = true;\n    } else if (force !== true) {\n      const cell = $(document.getElementById(\"p1001\")).parents('.cell').data().cell;\n      cell.output_area.append_execute_result(NB_LOAD_WARNING)\n    }\n  }\n\n  if (root._bokeh_is_loading === 0) {\n    console.debug(\"Bokeh: BokehJS loaded, going straight to plotting\");\n    run_inline_js();\n  } else {\n    load_libs(css_urls, js_urls, function() {\n      console.debug(\"Bokeh: BokehJS plotting callback run at\", now());\n      run_inline_js();\n    });\n  }\n}(window));",
      "application/vnd.bokehjs_load.v0+json": ""
     },
     "metadata": {},
     "output_type": "display_data"
    }
   ],
   "source": [
    "# import bokeh for interactive plots\n",
    "from bokeh.io import output_notebook, show\n",
    "from bokeh.plotting import figure\n",
    "from bokeh.models import ColumnDataSource, HoverTool, CategoricalColorMapper\n",
    "from bokeh.palettes import Spectral6\n",
    "from bokeh.transform import factor_cmap\n",
    "from bokeh.layouts import gridplot\n",
    "\n",
    "# import math\n",
    "import math\n",
    "\n",
    "# import bokeh panel and tabs\n",
    "\n",
    "from bokeh.models import TabPanel, Tabs\n",
    "\n",
    "\n",
    "output_notebook()\n"
   ]
  },
  {
   "cell_type": "code",
   "execution_count": 2,
   "metadata": {},
   "outputs": [
    {
     "name": "stderr",
     "output_type": "stream",
     "text": [
      "DtypeWarning: Columns (3) have mixed types. Specify dtype option on import or set low_memory=False.\n"
     ]
    }
   ],
   "source": [
    "df = pd.read_csv('./Data/Motor_Vehicle_Collisions_Crashes.csv')"
   ]
  },
  {
   "cell_type": "code",
   "execution_count": 3,
   "metadata": {},
   "outputs": [],
   "source": [
    "df['HOUR'] = pd.to_datetime(df['CRASH TIME'], format='%H:%M').dt.hour\n",
    "df['MINUTE'] = pd.to_datetime(df['CRASH TIME'], format='%H:%M').dt.minute\n",
    "df['CRASH DATE'] = pd.to_datetime(df['CRASH DATE'])\n",
    "df['YEAR'] = df['CRASH DATE'].dt.year\n",
    "df['MONTH'] = df['CRASH DATE'].dt.month\n",
    "df['DAY'] = df['CRASH DATE'].dt.day\n",
    "df['WEEKDAY'] = df['CRASH DATE'].dt.day_name()\n",
    "dayorder = [ 'Monday', 'Tuesday', 'Wednesday', 'Thursday', 'Friday', 'Saturday', 'Sunday']\n",
    "df['WEEKDAY'] = df['WEEKDAY'].astype(CategoricalDtype(categories=dayorder, ordered=True))\n",
    "df['HOUR OF WEEK'] = df['CRASH DATE'].dt.dayofweek * 24 + (df.HOUR + 1).astype(int)\n",
    "\n",
    "# drop data incomplete years\n",
    "df = df[(df.YEAR > 2020) & (df.YEAR < 2024)]\n",
    "df = df[(df.LONGITUDE != 0.000000) | (df.LATITUDE != 0.000000)]\n",
    "\n",
    "#sort data on CRASH DATE\n",
    "df = df.sort_values(by=['CRASH DATE']).reset_index(drop=True)\n",
    "\n",
    "# keep data from 2017-2022\n",
    "#df = df[(df['YEAR'] >= 2017) & (df['YEAR'] <= 2022)]"
   ]
  },
  {
   "cell_type": "code",
   "execution_count": 12,
   "metadata": {},
   "outputs": [
    {
     "name": "stdout",
     "output_type": "stream",
     "text": [
      "(235763, 39)\n"
     ]
    }
   ],
   "source": [
    "print(df.shape)"
   ]
  },
  {
   "cell_type": "code",
   "execution_count": 6,
   "metadata": {},
   "outputs": [
    {
     "name": "stderr",
     "output_type": "stream",
     "text": [
      "FutureWarning: The default value of numeric_only in DataFrame.sum is deprecated. In a future version, it will default to False. In addition, specifying 'numeric_only=None' is deprecated. Select only valid columns or specify the value of numeric_only to silence this warning.\n"
     ]
    },
    {
     "data": {
      "text/plain": [
       "CRASH TIME                       4:356:4519:423:3022:406:503:006:211:402:4010:4...\n",
       "LATITUDE                                                            8808503.703636\n",
       "LONGITUDE                                                         -15987794.582183\n",
       "NUMBER OF PERSONS INJURED                                                 114982.0\n",
       "NUMBER OF PERSONS KILLED                                                     629.0\n",
       "NUMBER OF PEDESTRIANS INJURED                                                18613\n",
       "NUMBER OF PEDESTRIANS KILLED                                                   281\n",
       "NUMBER OF CYCLIST INJURED                                                    10801\n",
       "NUMBER OF CYCLIST KILLED                                                        48\n",
       "NUMBER OF MOTORIST INJURED                                                   80644\n",
       "NUMBER OF MOTORIST KILLED                                                      266\n",
       "COLLISION_ID                                                         1061070488073\n",
       "HOUR                                                                       3015940\n",
       "MINUTE                                                                     5898678\n",
       "YEAR                                                                     476627288\n",
       "MONTH                                                                      1461055\n",
       "DAY                                                                        3674186\n",
       "HOUR OF WEEK                                                              20170143\n",
       "NO INJURIES OR FATALITIES                                                   149168\n",
       "NO INJURIES                                                                 149623\n",
       "NO FATALITIES                                                               235156\n",
       "dtype: object"
      ]
     },
     "execution_count": 6,
     "metadata": {},
     "output_type": "execute_result"
    }
   ],
   "source": [
    "# count number of collisions with no injuries or fatalities\n",
    "df['NO INJURIES'] = np.where(df['NUMBER OF PERSONS INJURED'] == 0, 1, 0)\n",
    "df['NO FATALITIES'] = np.where(df['NUMBER OF PERSONS KILLED'] == 0, 1, 0)\n",
    "df['NO INJURIES OR FATALITIES'] = np.where((df['NUMBER OF PERSONS INJURED'] == 0) & (df['NUMBER OF PERSONS KILLED'] == 0), 1, 0)\n",
    "\n",
    "df.sum()"
   ]
  },
  {
   "cell_type": "code",
   "execution_count": 7,
   "metadata": {},
   "outputs": [],
   "source": [
    "df_orig = df.copy()"
   ]
  },
  {
   "cell_type": "code",
   "execution_count": 9,
   "metadata": {},
   "outputs": [
    {
     "data": {
      "text/plain": [
       "(235763, 39)"
      ]
     },
     "execution_count": 9,
     "metadata": {},
     "output_type": "execute_result"
    }
   ],
   "source": [
    "df = df_orig\n",
    "df.shape"
   ]
  },
  {
   "attachments": {},
   "cell_type": "markdown",
   "metadata": {},
   "source": [
    "I want a plot where the focus is on the factor. It should be grouped by severity (material damage, injured and killed), type of transportation (motorist, cyclist, pedestrian) and borough."
   ]
  },
  {
   "cell_type": "code",
   "execution_count": 26,
   "metadata": {},
   "outputs": [
    {
     "data": {
      "text/plain": [
       "235762"
      ]
     },
     "execution_count": 26,
     "metadata": {},
     "output_type": "execute_result"
    }
   ],
   "source": [
    "# create columns that indicate if only material damage, injuries or fatalities occured\n",
    "df['MATERIAL DAMAGE'] = np.where((df['NUMBER OF PERSONS INJURED'] == 0) & (df['NUMBER OF PERSONS KILLED'] == 0), 1, 0)\n",
    "df['INJURIES'] = np.where((df['NUMBER OF PERSONS INJURED'] > 0) & (df['NUMBER OF PERSONS KILLED'] == 0), 1, 0)\n",
    "df['FATALITIES'] = np.where((df['NUMBER OF PERSONS INJURED'] >= 0) & (df['NUMBER OF PERSONS KILLED'] > 0), 1, 0)\n",
    "\n",
    "\n",
    "# the sum of MATERIAL DAMAGE, INJURIES and FATALITIES should be equal to df.shape = 235763\n",
    "df['MATERIAL DAMAGE'].sum() + df['INJURIES'].sum() + df['FATALITIES'].sum()\n"
   ]
  },
  {
   "cell_type": "code",
   "execution_count": null,
   "metadata": {},
   "outputs": [],
   "source": [
    "# categorize collisions two fold: by type and severity"
   ]
  },
  {
   "cell_type": "code",
   "execution_count": 30,
   "metadata": {},
   "outputs": [
    {
     "name": "stderr",
     "output_type": "stream",
     "text": [
      "FutureWarning: The default value of numeric_only in DataFrame.sum is deprecated. In a future version, it will default to False. In addition, specifying 'numeric_only=None' is deprecated. Select only valid columns or specify the value of numeric_only to silence this warning.\n"
     ]
    },
    {
     "data": {
      "text/plain": [
       "CRASH TIME                       4:356:4519:423:3022:406:503:006:211:402:4010:4...\n",
       "LATITUDE                                                            8808503.703636\n",
       "LONGITUDE                                                         -15987794.582183\n",
       "NUMBER OF PERSONS INJURED                                                 114982.0\n",
       "NUMBER OF PERSONS KILLED                                                     629.0\n",
       "NUMBER OF PEDESTRIANS INJURED                                                18613\n",
       "NUMBER OF PEDESTRIANS KILLED                                                   281\n",
       "NUMBER OF CYCLIST INJURED                                                    10801\n",
       "NUMBER OF CYCLIST KILLED                                                        48\n",
       "NUMBER OF MOTORIST INJURED                                                   80644\n",
       "NUMBER OF MOTORIST KILLED                                                      266\n",
       "COLLISION_ID                                                         1061070488073\n",
       "HOUR                                                                       3015940\n",
       "MINUTE                                                                     5898678\n",
       "YEAR                                                                     476627288\n",
       "MONTH                                                                      1461055\n",
       "DAY                                                                        3674186\n",
       "HOUR OF WEEK                                                              20170143\n",
       "NO INJURIES OR FATALITIES                                                   149168\n",
       "NO INJURIES                                                                 149623\n",
       "NO FATALITIES                                                               235156\n",
       "MATERIAL DAMAGE                                                             149168\n",
       "INJURIES                                                                     85987\n",
       "FATALITIES                                                                     607\n",
       "PEDESTRIAN                                                                   18125\n",
       "CYCLIST                                                                     225129\n",
       "MOTORIST                                                                    182030\n",
       "PEDESTRIAN_INJURED                                                           17868\n",
       "PEDESTRIAN_KILLED                                                              279\n",
       "CYCLIST_INJURED                                                              10539\n",
       "CYCLIST_KILLED                                                                  47\n",
       "MOTORIST_INJURED                                                             53166\n",
       "MOTORIST_KILLED                                                                247\n",
       "dtype: object"
      ]
     },
     "execution_count": 30,
     "metadata": {},
     "output_type": "execute_result"
    }
   ],
   "source": [
    "# categorize data depending on whether a motorist, cyclist, or pedestrian was involved\n",
    "df[\"PEDESTRIAN_INJURED\"] = np.where(df[\"NUMBER OF PEDESTRIANS INJURED\"] > 0, 1, 0)\n",
    "df[\"PEDESTRIAN_KILLED\"] = np.where(df[\"NUMBER OF PEDESTRIANS KILLED\"] > 0, 1, 0)\n",
    "df[\"CYCLIST_INJURED\"] = np.where(((df[\"NUMBER OF CYCLIST INJURED\"] > 0) & (df[\"PEDESTRIAN_INJURED\"] <= 0)), 1, 0)\n",
    "df[\"CYCLIST_KILLED\"] = np.where(((df[\"NUMBER OF CYCLIST KILLED\"] > 0) & (df[\"PEDESTRIAN_KILLED\"] <= 0)), 1, 0)\n",
    "df[\"MOTORIST_INJURED\"] = np.where((df[\"NUMBER OF MOTORIST INJURED\"] > 0) & (df[\"CYCLIST_INJURED\"] == 0) & (df[\"PEDESTRIAN_INJURED\"] == 0), 1, 0)\n",
    "df[\"MOTORIST_KILLED\"] = np.where((df[\"NUMBER OF MOTORIST KILLED\"] > 0) & (df[\"CYCLIST_KILLED\"] == 0) & (df[\"PEDESTRIAN_KILLED\"] == 0), 1, 0)\n",
    "\n",
    "\n",
    "df.sum()\n"
   ]
  },
  {
   "cell_type": "code",
   "execution_count": 31,
   "metadata": {},
   "outputs": [
    {
     "data": {
      "text/plain": [
       "82146"
      ]
     },
     "execution_count": 31,
     "metadata": {},
     "output_type": "execute_result"
    }
   ],
   "source": [
    "df[\"PEDESTRIAN_KILLED\"].sum()+df[\"PEDESTRIAN_INJURED\"].sum()+df[\"CYCLIST_KILLED\"].sum()+df[\"CYCLIST_INJURED\"].sum()+df[\"MOTORIST_KILLED\"].sum()+df[\"MOTORIST_INJURED\"].sum()"
   ]
  },
  {
   "cell_type": "code",
   "execution_count": 32,
   "metadata": {},
   "outputs": [],
   "source": [
    "# make three dataframes for material damage, injuries and fatalities\n",
    "df_material_damage = df[['CONTRIBUTING FACTOR VEHICLE 1', 'MATERIAL DAMAGE']].groupby('CONTRIBUTING FACTOR VEHICLE 1').sum().reset_index()\n",
    "df_injured = df[['CONTRIBUTING FACTOR VEHICLE 1', 'MOTORIST_INJURED', 'CYCLIST_INJURED', 'PEDESTRIAN_INJURED']].groupby('CONTRIBUTING FACTOR VEHICLE 1').sum().reset_index()\n",
    "df_killed = df[['CONTRIBUTING FACTOR VEHICLE 1', 'MOTORIST_KILLED', 'CYCLIST_KILLED', 'PEDESTRIAN_KILLED']].groupby('CONTRIBUTING FACTOR VEHICLE 1').sum().reset_index()\n"
   ]
  },
  {
   "cell_type": "code",
   "execution_count": 64,
   "metadata": {},
   "outputs": [
    {
     "data": {
      "text/html": [
       "\n",
       "  <div id=\"e24058aa-b701-46a0-b826-fbe7399e1afb\" data-root-id=\"p21640\" style=\"display: contents;\"></div>\n"
      ]
     },
     "metadata": {},
     "output_type": "display_data"
    },
    {
     "data": {
      "application/javascript": "(function(root) {\n  function embed_document(root) {\n  const docs_json = {\"78fb722b-f84f-4a08-9f7b-c1180f914d61\":{\"version\":\"3.0.3\",\"title\":\"Bokeh Application\",\"defs\":[],\"roots\":[{\"type\":\"object\",\"name\":\"Tabs\",\"id\":\"p21640\",\"attributes\":{\"tabs\":[{\"type\":\"object\",\"name\":\"TabPanel\",\"id\":\"p21637\",\"attributes\":{\"title\":\"Material Damage\",\"child\":{\"type\":\"object\",\"name\":\"Figure\",\"id\":\"p21362\",\"attributes\":{\"width\":1000,\"height\":500,\"x_range\":{\"type\":\"object\",\"name\":\"DataRange1d\",\"id\":\"p21364\",\"attributes\":{\"start\":0}},\"y_range\":{\"type\":\"object\",\"name\":\"FactorRange\",\"id\":\"p21374\",\"attributes\":{\"factors\":[\"Other Vehicular\",\"Unsafe Speed\",\"Failure to Yield Right-of-Way\",\"Backing Unsafely\",\"Passing or Lane Usage Improper\",\"Passing Too Closely\",\"Following Too Closely\",\"Driver Inattention/Distraction\"]}},\"x_scale\":{\"type\":\"object\",\"name\":\"LinearScale\",\"id\":\"p21376\"},\"y_scale\":{\"type\":\"object\",\"name\":\"CategoricalScale\",\"id\":\"p21378\"},\"title\":{\"type\":\"object\",\"name\":\"Title\",\"id\":\"p21365\",\"attributes\":{\"text\":\"Most Frequent Contributing Factors for Material Damage\"}},\"renderers\":[{\"type\":\"object\",\"name\":\"GlyphRenderer\",\"id\":\"p21464\",\"attributes\":{\"data_source\":{\"type\":\"object\",\"name\":\"ColumnDataSource\",\"id\":\"p21353\",\"attributes\":{\"selected\":{\"type\":\"object\",\"name\":\"Selection\",\"id\":\"p21355\",\"attributes\":{\"indices\":[],\"line_indices\":[]}},\"selection_policy\":{\"type\":\"object\",\"name\":\"UnionRenderers\",\"id\":\"p21354\"},\"data\":{\"type\":\"map\",\"entries\":[[\"index\",{\"type\":\"ndarray\",\"array\":{\"type\":\"bytes\",\"data\":\"GwAAADEAAAAOAAAABAAAACAAAAAfAAAAEQAAAAgAAAA=\"},\"shape\":[8],\"dtype\":\"int32\",\"order\":\"little\"}],[\"CONTRIBUTING FACTOR VEHICLE 1\",{\"type\":\"ndarray\",\"array\":[\"Other Vehicular\",\"Unsafe Speed\",\"Failure to Yield Right-of-Way\",\"Backing Unsafely\",\"Passing or Lane Usage Improper\",\"Passing Too Closely\",\"Following Too Closely\",\"Driver Inattention/Distraction\"],\"shape\":[8],\"dtype\":\"object\",\"order\":\"little\"}],[\"MATERIAL DAMAGE\",{\"type\":\"ndarray\",\"array\":{\"type\":\"bytes\",\"data\":\"LBEAALIRAAAoFwAAeBcAALceAABmHwAA1iMAAHmJAAA=\"},\"shape\":[8],\"dtype\":\"int32\",\"order\":\"little\"}]]}}},\"view\":{\"type\":\"object\",\"name\":\"CDSView\",\"id\":\"p21465\",\"attributes\":{\"filter\":{\"type\":\"object\",\"name\":\"AllIndices\",\"id\":\"p21466\"}}},\"glyph\":{\"type\":\"object\",\"name\":\"HBar\",\"id\":\"p21461\",\"attributes\":{\"y\":{\"type\":\"field\",\"field\":\"CONTRIBUTING FACTOR VEHICLE 1\"},\"height\":{\"type\":\"value\",\"value\":0.8},\"right\":{\"type\":\"field\",\"field\":\"MATERIAL DAMAGE\"},\"line_color\":{\"type\":\"value\",\"value\":\"#4271AE\"},\"fill_color\":{\"type\":\"value\",\"value\":\"#4271AE\"},\"hatch_color\":{\"type\":\"value\",\"value\":\"#4271AE\"}}},\"nonselection_glyph\":{\"type\":\"object\",\"name\":\"HBar\",\"id\":\"p21462\",\"attributes\":{\"y\":{\"type\":\"field\",\"field\":\"CONTRIBUTING FACTOR VEHICLE 1\"},\"height\":{\"type\":\"value\",\"value\":0.8},\"right\":{\"type\":\"field\",\"field\":\"MATERIAL DAMAGE\"},\"line_color\":{\"type\":\"value\",\"value\":\"#4271AE\"},\"line_alpha\":{\"type\":\"value\",\"value\":0.1},\"fill_color\":{\"type\":\"value\",\"value\":\"#4271AE\"},\"fill_alpha\":{\"type\":\"value\",\"value\":0.1},\"hatch_color\":{\"type\":\"value\",\"value\":\"#4271AE\"},\"hatch_alpha\":{\"type\":\"value\",\"value\":0.1}}},\"muted_glyph\":{\"type\":\"object\",\"name\":\"HBar\",\"id\":\"p21463\",\"attributes\":{\"y\":{\"type\":\"field\",\"field\":\"CONTRIBUTING FACTOR VEHICLE 1\"},\"height\":{\"type\":\"value\",\"value\":0.8},\"right\":{\"type\":\"field\",\"field\":\"MATERIAL DAMAGE\"},\"line_color\":{\"type\":\"value\",\"value\":\"#4271AE\"},\"line_alpha\":{\"type\":\"value\",\"value\":0.2},\"fill_color\":{\"type\":\"value\",\"value\":\"#4271AE\"},\"fill_alpha\":{\"type\":\"value\",\"value\":0.2},\"hatch_color\":{\"type\":\"value\",\"value\":\"#4271AE\"},\"hatch_alpha\":{\"type\":\"value\",\"value\":0.2}}}}}],\"toolbar\":{\"type\":\"object\",\"name\":\"Toolbar\",\"id\":\"p21369\",\"attributes\":{\"tools\":[{\"type\":\"object\",\"name\":\"HoverTool\",\"id\":\"p21631\",\"attributes\":{\"renderers\":\"auto\",\"tooltips\":[[\"Contributing Factor\",\"@{CONTRIBUTING FACTOR VEHICLE 1}\"],[\"Material Damage\",\"@{MATERIAL DAMAGE}\"]]}}]}},\"toolbar_location\":null,\"left\":[{\"type\":\"object\",\"name\":\"CategoricalAxis\",\"id\":\"p21387\",\"attributes\":{\"ticker\":{\"type\":\"object\",\"name\":\"CategoricalTicker\",\"id\":\"p21388\"},\"formatter\":{\"type\":\"object\",\"name\":\"CategoricalTickFormatter\",\"id\":\"p21390\"},\"major_label_policy\":{\"type\":\"object\",\"name\":\"AllLabels\",\"id\":\"p21389\"}}}],\"below\":[{\"type\":\"object\",\"name\":\"LinearAxis\",\"id\":\"p21380\",\"attributes\":{\"ticker\":{\"type\":\"object\",\"name\":\"BasicTicker\",\"id\":\"p21381\",\"attributes\":{\"mantissas\":[1,2,5]}},\"formatter\":{\"type\":\"object\",\"name\":\"BasicTickFormatter\",\"id\":\"p21383\"},\"major_label_policy\":{\"type\":\"object\",\"name\":\"AllLabels\",\"id\":\"p21382\"}}}],\"center\":[{\"type\":\"object\",\"name\":\"Grid\",\"id\":\"p21386\",\"attributes\":{\"axis\":{\"id\":\"p21380\"}}},{\"type\":\"object\",\"name\":\"Grid\",\"id\":\"p21392\",\"attributes\":{\"dimension\":1,\"axis\":{\"id\":\"p21387\"}}}]}}}},{\"type\":\"object\",\"name\":\"TabPanel\",\"id\":\"p21638\",\"attributes\":{\"title\":\"Injured\",\"child\":{\"type\":\"object\",\"name\":\"Figure\",\"id\":\"p21394\",\"attributes\":{\"width\":1000,\"height\":500,\"x_range\":{\"type\":\"object\",\"name\":\"DataRange1d\",\"id\":\"p21396\",\"attributes\":{\"start\":0}},\"y_range\":{\"type\":\"object\",\"name\":\"FactorRange\",\"id\":\"p21406\",\"attributes\":{\"factors\":[\"Turning Improperly\",\"Other Vehicular\",\"Passing or Lane Usage Improper\",\"Traffic Control Disregarded\",\"Unsafe Speed\",\"Following Too Closely\",\"Failure to Yield Right-of-Way\",\"Driver Inattention/Distraction\"]}},\"x_scale\":{\"type\":\"object\",\"name\":\"LinearScale\",\"id\":\"p21408\"},\"y_scale\":{\"type\":\"object\",\"name\":\"CategoricalScale\",\"id\":\"p21410\"},\"title\":{\"type\":\"object\",\"name\":\"Title\",\"id\":\"p21397\",\"attributes\":{\"text\":\"Most Frequent Contributing Factors for Injured\"}},\"renderers\":[{\"type\":\"object\",\"name\":\"GlyphRenderer\",\"id\":\"p21479\",\"attributes\":{\"name\":\"MOTORIST_INJURED\",\"data_source\":{\"type\":\"object\",\"name\":\"ColumnDataSource\",\"id\":\"p21356\",\"attributes\":{\"selected\":{\"type\":\"object\",\"name\":\"Selection\",\"id\":\"p21358\",\"attributes\":{\"indices\":[],\"line_indices\":[]}},\"selection_policy\":{\"type\":\"object\",\"name\":\"UnionRenderers\",\"id\":\"p21357\"},\"data\":{\"type\":\"map\",\"entries\":[[\"index\",{\"type\":\"ndarray\",\"array\":{\"type\":\"bytes\",\"data\":\"LwAAABsAAAAgAAAALgAAADEAAAARAAAADgAAAAgAAAA=\"},\"shape\":[8],\"dtype\":\"int32\",\"order\":\"little\"}],[\"CONTRIBUTING FACTOR VEHICLE 1\",{\"type\":\"ndarray\",\"array\":[\"Turning Improperly\",\"Other Vehicular\",\"Passing or Lane Usage Improper\",\"Traffic Control Disregarded\",\"Unsafe Speed\",\"Following Too Closely\",\"Failure to Yield Right-of-Way\",\"Driver Inattention/Distraction\"],\"shape\":[8],\"dtype\":\"object\",\"order\":\"little\"}],[\"MOTORIST_INJURED\",{\"type\":\"ndarray\",\"array\":{\"type\":\"bytes\",\"data\":\"swQAAGgGAABrBwAAWgoAAIMLAAB9FgAApA8AAKwzAAA=\"},\"shape\":[8],\"dtype\":\"int32\",\"order\":\"little\"}],[\"CYCLIST_INJURED\",{\"type\":\"ndarray\",\"array\":{\"type\":\"bytes\",\"data\":\"+gAAALoAAAC9AQAAVgIAAAYBAAAnAQAAgQUAAHEMAAA=\"},\"shape\":[8],\"dtype\":\"int32\",\"order\":\"little\"}],[\"PEDESTRIAN_INJURED\",{\"type\":\"ndarray\",\"array\":{\"type\":\"bytes\",\"data\":\"vgAAAEkAAACLAAAANQEAAJIBAAA6AAAA6hAAAK8RAAA=\"},\"shape\":[8],\"dtype\":\"int32\",\"order\":\"little\"}],[\"sum\",{\"type\":\"ndarray\",\"array\":{\"type\":\"bytes\",\"data\":\"awYAAGsHAACzCQAA5Q0AABsOAADeFwAADyYAAMxRAAA=\"},\"shape\":[8],\"dtype\":\"int32\",\"order\":\"little\"}]]}}},\"view\":{\"type\":\"object\",\"name\":\"CDSView\",\"id\":\"p21480\",\"attributes\":{\"filter\":{\"type\":\"object\",\"name\":\"AllIndices\",\"id\":\"p21481\"}}},\"glyph\":{\"type\":\"object\",\"name\":\"HBar\",\"id\":\"p21476\",\"attributes\":{\"y\":{\"type\":\"field\",\"field\":\"CONTRIBUTING FACTOR VEHICLE 1\"},\"height\":{\"type\":\"value\",\"value\":0.8},\"left\":{\"type\":\"expr\",\"expr\":{\"type\":\"object\",\"name\":\"Stack\",\"id\":\"p21467\",\"attributes\":{\"fields\":[]}}},\"right\":{\"type\":\"expr\",\"expr\":{\"type\":\"object\",\"name\":\"Stack\",\"id\":\"p21468\",\"attributes\":{\"fields\":[\"MOTORIST_INJURED\"]}}},\"line_color\":{\"type\":\"value\",\"value\":\"#4271AE\"},\"fill_color\":{\"type\":\"value\",\"value\":\"#4271AE\"},\"hatch_color\":{\"type\":\"value\",\"value\":\"#4271AE\"}}},\"nonselection_glyph\":{\"type\":\"object\",\"name\":\"HBar\",\"id\":\"p21477\",\"attributes\":{\"y\":{\"type\":\"field\",\"field\":\"CONTRIBUTING FACTOR VEHICLE 1\"},\"height\":{\"type\":\"value\",\"value\":0.8},\"left\":{\"type\":\"expr\",\"expr\":{\"id\":\"p21467\"}},\"right\":{\"type\":\"expr\",\"expr\":{\"id\":\"p21468\"}},\"line_color\":{\"type\":\"value\",\"value\":\"#4271AE\"},\"line_alpha\":{\"type\":\"value\",\"value\":0.1},\"fill_color\":{\"type\":\"value\",\"value\":\"#4271AE\"},\"fill_alpha\":{\"type\":\"value\",\"value\":0.1},\"hatch_color\":{\"type\":\"value\",\"value\":\"#4271AE\"},\"hatch_alpha\":{\"type\":\"value\",\"value\":0.1}}},\"muted_glyph\":{\"type\":\"object\",\"name\":\"HBar\",\"id\":\"p21478\",\"attributes\":{\"y\":{\"type\":\"field\",\"field\":\"CONTRIBUTING FACTOR VEHICLE 1\"},\"height\":{\"type\":\"value\",\"value\":0.8},\"left\":{\"type\":\"expr\",\"expr\":{\"id\":\"p21467\"}},\"right\":{\"type\":\"expr\",\"expr\":{\"id\":\"p21468\"}},\"line_color\":{\"type\":\"value\",\"value\":\"#4271AE\"},\"line_alpha\":{\"type\":\"value\",\"value\":0.2},\"fill_color\":{\"type\":\"value\",\"value\":\"#4271AE\"},\"fill_alpha\":{\"type\":\"value\",\"value\":0.2},\"hatch_color\":{\"type\":\"value\",\"value\":\"#4271AE\"},\"hatch_alpha\":{\"type\":\"value\",\"value\":0.2}}}}},{\"type\":\"object\",\"name\":\"GlyphRenderer\",\"id\":\"p21502\",\"attributes\":{\"name\":\"CYCLIST_INJURED\",\"data_source\":{\"id\":\"p21356\"},\"view\":{\"type\":\"object\",\"name\":\"CDSView\",\"id\":\"p21503\",\"attributes\":{\"filter\":{\"type\":\"object\",\"name\":\"AllIndices\",\"id\":\"p21504\"}}},\"glyph\":{\"type\":\"object\",\"name\":\"HBar\",\"id\":\"p21499\",\"attributes\":{\"y\":{\"type\":\"field\",\"field\":\"CONTRIBUTING FACTOR VEHICLE 1\"},\"height\":{\"type\":\"value\",\"value\":0.8},\"left\":{\"type\":\"expr\",\"expr\":{\"type\":\"object\",\"name\":\"Stack\",\"id\":\"p21469\",\"attributes\":{\"fields\":[\"MOTORIST_INJURED\"]}}},\"right\":{\"type\":\"expr\",\"expr\":{\"type\":\"object\",\"name\":\"Stack\",\"id\":\"p21470\",\"attributes\":{\"fields\":[\"MOTORIST_INJURED\",\"CYCLIST_INJURED\"]}}},\"line_color\":{\"type\":\"value\",\"value\":\"#F5A623\"},\"fill_color\":{\"type\":\"value\",\"value\":\"#F5A623\"},\"hatch_color\":{\"type\":\"value\",\"value\":\"#F5A623\"}}},\"nonselection_glyph\":{\"type\":\"object\",\"name\":\"HBar\",\"id\":\"p21500\",\"attributes\":{\"y\":{\"type\":\"field\",\"field\":\"CONTRIBUTING FACTOR VEHICLE 1\"},\"height\":{\"type\":\"value\",\"value\":0.8},\"left\":{\"type\":\"expr\",\"expr\":{\"id\":\"p21469\"}},\"right\":{\"type\":\"expr\",\"expr\":{\"id\":\"p21470\"}},\"line_color\":{\"type\":\"value\",\"value\":\"#F5A623\"},\"line_alpha\":{\"type\":\"value\",\"value\":0.1},\"fill_color\":{\"type\":\"value\",\"value\":\"#F5A623\"},\"fill_alpha\":{\"type\":\"value\",\"value\":0.1},\"hatch_color\":{\"type\":\"value\",\"value\":\"#F5A623\"},\"hatch_alpha\":{\"type\":\"value\",\"value\":0.1}}},\"muted_glyph\":{\"type\":\"object\",\"name\":\"HBar\",\"id\":\"p21501\",\"attributes\":{\"y\":{\"type\":\"field\",\"field\":\"CONTRIBUTING FACTOR VEHICLE 1\"},\"height\":{\"type\":\"value\",\"value\":0.8},\"left\":{\"type\":\"expr\",\"expr\":{\"id\":\"p21469\"}},\"right\":{\"type\":\"expr\",\"expr\":{\"id\":\"p21470\"}},\"line_color\":{\"type\":\"value\",\"value\":\"#F5A623\"},\"line_alpha\":{\"type\":\"value\",\"value\":0.2},\"fill_color\":{\"type\":\"value\",\"value\":\"#F5A623\"},\"fill_alpha\":{\"type\":\"value\",\"value\":0.2},\"hatch_color\":{\"type\":\"value\",\"value\":\"#F5A623\"},\"hatch_alpha\":{\"type\":\"value\",\"value\":0.2}}}}},{\"type\":\"object\",\"name\":\"GlyphRenderer\",\"id\":\"p21527\",\"attributes\":{\"name\":\"PEDESTRIAN_INJURED\",\"data_source\":{\"id\":\"p21356\"},\"view\":{\"type\":\"object\",\"name\":\"CDSView\",\"id\":\"p21528\",\"attributes\":{\"filter\":{\"type\":\"object\",\"name\":\"AllIndices\",\"id\":\"p21529\"}}},\"glyph\":{\"type\":\"object\",\"name\":\"HBar\",\"id\":\"p21524\",\"attributes\":{\"y\":{\"type\":\"field\",\"field\":\"CONTRIBUTING FACTOR VEHICLE 1\"},\"height\":{\"type\":\"value\",\"value\":0.8},\"left\":{\"type\":\"expr\",\"expr\":{\"type\":\"object\",\"name\":\"Stack\",\"id\":\"p21471\",\"attributes\":{\"fields\":[\"MOTORIST_INJURED\",\"CYCLIST_INJURED\"]}}},\"right\":{\"type\":\"expr\",\"expr\":{\"type\":\"object\",\"name\":\"Stack\",\"id\":\"p21472\",\"attributes\":{\"fields\":[\"MOTORIST_INJURED\",\"CYCLIST_INJURED\",\"PEDESTRIAN_INJURED\"]}}},\"line_color\":{\"type\":\"value\",\"value\":\"#4CAF50\"},\"fill_color\":{\"type\":\"value\",\"value\":\"#4CAF50\"},\"hatch_color\":{\"type\":\"value\",\"value\":\"#4CAF50\"}}},\"nonselection_glyph\":{\"type\":\"object\",\"name\":\"HBar\",\"id\":\"p21525\",\"attributes\":{\"y\":{\"type\":\"field\",\"field\":\"CONTRIBUTING FACTOR VEHICLE 1\"},\"height\":{\"type\":\"value\",\"value\":0.8},\"left\":{\"type\":\"expr\",\"expr\":{\"id\":\"p21471\"}},\"right\":{\"type\":\"expr\",\"expr\":{\"id\":\"p21472\"}},\"line_color\":{\"type\":\"value\",\"value\":\"#4CAF50\"},\"line_alpha\":{\"type\":\"value\",\"value\":0.1},\"fill_color\":{\"type\":\"value\",\"value\":\"#4CAF50\"},\"fill_alpha\":{\"type\":\"value\",\"value\":0.1},\"hatch_color\":{\"type\":\"value\",\"value\":\"#4CAF50\"},\"hatch_alpha\":{\"type\":\"value\",\"value\":0.1}}},\"muted_glyph\":{\"type\":\"object\",\"name\":\"HBar\",\"id\":\"p21526\",\"attributes\":{\"y\":{\"type\":\"field\",\"field\":\"CONTRIBUTING FACTOR VEHICLE 1\"},\"height\":{\"type\":\"value\",\"value\":0.8},\"left\":{\"type\":\"expr\",\"expr\":{\"id\":\"p21471\"}},\"right\":{\"type\":\"expr\",\"expr\":{\"id\":\"p21472\"}},\"line_color\":{\"type\":\"value\",\"value\":\"#4CAF50\"},\"line_alpha\":{\"type\":\"value\",\"value\":0.2},\"fill_color\":{\"type\":\"value\",\"value\":\"#4CAF50\"},\"fill_alpha\":{\"type\":\"value\",\"value\":0.2},\"hatch_color\":{\"type\":\"value\",\"value\":\"#4CAF50\"},\"hatch_alpha\":{\"type\":\"value\",\"value\":0.2}}}}}],\"toolbar\":{\"type\":\"object\",\"name\":\"Toolbar\",\"id\":\"p21401\",\"attributes\":{\"tools\":[{\"type\":\"object\",\"name\":\"HoverTool\",\"id\":\"p21632\",\"attributes\":{\"renderers\":\"auto\",\"tooltips\":[[\"Contributing Factor\",\"@{CONTRIBUTING FACTOR VEHICLE 1}\"],[\"Motorist\",\"@{MOTORIST_INJURED}\"],[\"Cyclist\",\"@{CYCLIST_INJURED}\"],[\"Pedestrian\",\"@{PEDESTRIAN_INJURED}\"]]}}]}},\"toolbar_location\":null,\"left\":[{\"type\":\"object\",\"name\":\"CategoricalAxis\",\"id\":\"p21419\",\"attributes\":{\"ticker\":{\"type\":\"object\",\"name\":\"CategoricalTicker\",\"id\":\"p21420\"},\"formatter\":{\"type\":\"object\",\"name\":\"CategoricalTickFormatter\",\"id\":\"p21422\"},\"major_label_policy\":{\"type\":\"object\",\"name\":\"AllLabels\",\"id\":\"p21421\"}}}],\"below\":[{\"type\":\"object\",\"name\":\"LinearAxis\",\"id\":\"p21412\",\"attributes\":{\"ticker\":{\"type\":\"object\",\"name\":\"BasicTicker\",\"id\":\"p21413\",\"attributes\":{\"mantissas\":[1,2,5]}},\"formatter\":{\"type\":\"object\",\"name\":\"BasicTickFormatter\",\"id\":\"p21415\"},\"major_label_policy\":{\"type\":\"object\",\"name\":\"AllLabels\",\"id\":\"p21414\"}}}],\"center\":[{\"type\":\"object\",\"name\":\"Grid\",\"id\":\"p21418\",\"attributes\":{\"axis\":{\"id\":\"p21412\"}}},{\"type\":\"object\",\"name\":\"Grid\",\"id\":\"p21424\",\"attributes\":{\"dimension\":1,\"axis\":{\"id\":\"p21419\"}}},{\"type\":\"object\",\"name\":\"Legend\",\"id\":\"p21494\",\"attributes\":{\"location\":\"bottom_right\",\"orientation\":\"horizontal\",\"items\":[{\"type\":\"object\",\"name\":\"LegendItem\",\"id\":\"p21495\",\"attributes\":{\"label\":{\"type\":\"value\",\"value\":\"Motorist\"},\"renderers\":[{\"id\":\"p21479\"}]}},{\"type\":\"object\",\"name\":\"LegendItem\",\"id\":\"p21520\",\"attributes\":{\"label\":{\"type\":\"value\",\"value\":\"Cyclist\"},\"renderers\":[{\"id\":\"p21502\"}]}},{\"type\":\"object\",\"name\":\"LegendItem\",\"id\":\"p21548\",\"attributes\":{\"label\":{\"type\":\"value\",\"value\":\"Pedestrian\"},\"renderers\":[{\"id\":\"p21527\"}]}}]}}]}}}},{\"type\":\"object\",\"name\":\"TabPanel\",\"id\":\"p21639\",\"attributes\":{\"title\":\"Killed\",\"child\":{\"type\":\"object\",\"name\":\"Figure\",\"id\":\"p21426\",\"attributes\":{\"width\":1000,\"height\":500,\"x_range\":{\"type\":\"object\",\"name\":\"DataRange1d\",\"id\":\"p21428\",\"attributes\":{\"start\":0}},\"y_range\":{\"type\":\"object\",\"name\":\"FactorRange\",\"id\":\"p21438\",\"attributes\":{\"factors\":[\"Driver Inexperience\",\"Lost Consciousness\",\"Pedestrian/Bicyclist/Other Pedestrian Error/Confusion\",\"Alcohol Involvement\",\"Traffic Control Disregarded\",\"Failure to Yield Right-of-Way\",\"Driver Inattention/Distraction\",\"Unsafe Speed\"]}},\"x_scale\":{\"type\":\"object\",\"name\":\"LinearScale\",\"id\":\"p21440\"},\"y_scale\":{\"type\":\"object\",\"name\":\"CategoricalScale\",\"id\":\"p21442\"},\"title\":{\"type\":\"object\",\"name\":\"Title\",\"id\":\"p21429\",\"attributes\":{\"text\":\"Most Frequent Contributing Factors for Killed\"}},\"renderers\":[{\"type\":\"object\",\"name\":\"GlyphRenderer\",\"id\":\"p21561\",\"attributes\":{\"name\":\"MOTORIST_KILLED\",\"data_source\":{\"type\":\"object\",\"name\":\"ColumnDataSource\",\"id\":\"p21359\",\"attributes\":{\"selected\":{\"type\":\"object\",\"name\":\"Selection\",\"id\":\"p21361\",\"attributes\":{\"indices\":[],\"line_indices\":[]}},\"selection_policy\":{\"type\":\"object\",\"name\":\"UnionRenderers\",\"id\":\"p21360\"},\"data\":{\"type\":\"map\",\"entries\":[[\"index\",{\"type\":\"ndarray\",\"array\":{\"type\":\"bytes\",\"data\":\"CQAAABcAAAAjAAAAAgAAAC4AAAAOAAAACAAAADEAAAA=\"},\"shape\":[8],\"dtype\":\"int32\",\"order\":\"little\"}],[\"CONTRIBUTING FACTOR VEHICLE 1\",{\"type\":\"ndarray\",\"array\":[\"Driver Inexperience\",\"Lost Consciousness\",\"Pedestrian/Bicyclist/Other Pedestrian Error/Confusion\",\"Alcohol Involvement\",\"Traffic Control Disregarded\",\"Failure to Yield Right-of-Way\",\"Driver Inattention/Distraction\",\"Unsafe Speed\"],\"shape\":[8],\"dtype\":\"object\",\"order\":\"little\"}],[\"MOTORIST_KILLED\",{\"type\":\"ndarray\",\"array\":{\"type\":\"bytes\",\"data\":\"CgAAAA4AAAAAAAAAEAAAABIAAAAFAAAAEQAAAGQAAAA=\"},\"shape\":[8],\"dtype\":\"int32\",\"order\":\"little\"}],[\"CYCLIST_KILLED\",{\"type\":\"ndarray\",\"array\":{\"type\":\"bytes\",\"data\":\"AAAAAAEAAAAJAAAAAAAAAAYAAAAEAAAABAAAAAMAAAA=\"},\"shape\":[8],\"dtype\":\"int32\",\"order\":\"little\"}],[\"PEDESTRIAN_KILLED\",{\"type\":\"ndarray\",\"array\":{\"type\":\"bytes\",\"data\":\"BAAAAAAAAAAPAAAACQAAAAYAAAAkAAAAMAAAABkAAAA=\"},\"shape\":[8],\"dtype\":\"int32\",\"order\":\"little\"}],[\"sum\",{\"type\":\"ndarray\",\"array\":{\"type\":\"bytes\",\"data\":\"DgAAAA8AAAAYAAAAGQAAAB4AAAAtAAAARQAAAIAAAAA=\"},\"shape\":[8],\"dtype\":\"int32\",\"order\":\"little\"}]]}}},\"view\":{\"type\":\"object\",\"name\":\"CDSView\",\"id\":\"p21562\",\"attributes\":{\"filter\":{\"type\":\"object\",\"name\":\"AllIndices\",\"id\":\"p21563\"}}},\"glyph\":{\"type\":\"object\",\"name\":\"HBar\",\"id\":\"p21558\",\"attributes\":{\"y\":{\"type\":\"field\",\"field\":\"CONTRIBUTING FACTOR VEHICLE 1\"},\"height\":{\"type\":\"value\",\"value\":0.8},\"left\":{\"type\":\"expr\",\"expr\":{\"type\":\"object\",\"name\":\"Stack\",\"id\":\"p21549\",\"attributes\":{\"fields\":[]}}},\"right\":{\"type\":\"expr\",\"expr\":{\"type\":\"object\",\"name\":\"Stack\",\"id\":\"p21550\",\"attributes\":{\"fields\":[\"MOTORIST_KILLED\"]}}},\"line_color\":{\"type\":\"value\",\"value\":\"#4271AE\"},\"fill_color\":{\"type\":\"value\",\"value\":\"#4271AE\"},\"hatch_color\":{\"type\":\"value\",\"value\":\"#4271AE\"}}},\"nonselection_glyph\":{\"type\":\"object\",\"name\":\"HBar\",\"id\":\"p21559\",\"attributes\":{\"y\":{\"type\":\"field\",\"field\":\"CONTRIBUTING FACTOR VEHICLE 1\"},\"height\":{\"type\":\"value\",\"value\":0.8},\"left\":{\"type\":\"expr\",\"expr\":{\"id\":\"p21549\"}},\"right\":{\"type\":\"expr\",\"expr\":{\"id\":\"p21550\"}},\"line_color\":{\"type\":\"value\",\"value\":\"#4271AE\"},\"line_alpha\":{\"type\":\"value\",\"value\":0.1},\"fill_color\":{\"type\":\"value\",\"value\":\"#4271AE\"},\"fill_alpha\":{\"type\":\"value\",\"value\":0.1},\"hatch_color\":{\"type\":\"value\",\"value\":\"#4271AE\"},\"hatch_alpha\":{\"type\":\"value\",\"value\":0.1}}},\"muted_glyph\":{\"type\":\"object\",\"name\":\"HBar\",\"id\":\"p21560\",\"attributes\":{\"y\":{\"type\":\"field\",\"field\":\"CONTRIBUTING FACTOR VEHICLE 1\"},\"height\":{\"type\":\"value\",\"value\":0.8},\"left\":{\"type\":\"expr\",\"expr\":{\"id\":\"p21549\"}},\"right\":{\"type\":\"expr\",\"expr\":{\"id\":\"p21550\"}},\"line_color\":{\"type\":\"value\",\"value\":\"#4271AE\"},\"line_alpha\":{\"type\":\"value\",\"value\":0.2},\"fill_color\":{\"type\":\"value\",\"value\":\"#4271AE\"},\"fill_alpha\":{\"type\":\"value\",\"value\":0.2},\"hatch_color\":{\"type\":\"value\",\"value\":\"#4271AE\"},\"hatch_alpha\":{\"type\":\"value\",\"value\":0.2}}}}},{\"type\":\"object\",\"name\":\"GlyphRenderer\",\"id\":\"p21584\",\"attributes\":{\"name\":\"CYCLIST_KILLED\",\"data_source\":{\"id\":\"p21359\"},\"view\":{\"type\":\"object\",\"name\":\"CDSView\",\"id\":\"p21585\",\"attributes\":{\"filter\":{\"type\":\"object\",\"name\":\"AllIndices\",\"id\":\"p21586\"}}},\"glyph\":{\"type\":\"object\",\"name\":\"HBar\",\"id\":\"p21581\",\"attributes\":{\"y\":{\"type\":\"field\",\"field\":\"CONTRIBUTING FACTOR VEHICLE 1\"},\"height\":{\"type\":\"value\",\"value\":0.8},\"left\":{\"type\":\"expr\",\"expr\":{\"type\":\"object\",\"name\":\"Stack\",\"id\":\"p21551\",\"attributes\":{\"fields\":[\"MOTORIST_KILLED\"]}}},\"right\":{\"type\":\"expr\",\"expr\":{\"type\":\"object\",\"name\":\"Stack\",\"id\":\"p21552\",\"attributes\":{\"fields\":[\"MOTORIST_KILLED\",\"CYCLIST_KILLED\"]}}},\"line_color\":{\"type\":\"value\",\"value\":\"#F5A623\"},\"fill_color\":{\"type\":\"value\",\"value\":\"#F5A623\"},\"hatch_color\":{\"type\":\"value\",\"value\":\"#F5A623\"}}},\"nonselection_glyph\":{\"type\":\"object\",\"name\":\"HBar\",\"id\":\"p21582\",\"attributes\":{\"y\":{\"type\":\"field\",\"field\":\"CONTRIBUTING FACTOR VEHICLE 1\"},\"height\":{\"type\":\"value\",\"value\":0.8},\"left\":{\"type\":\"expr\",\"expr\":{\"id\":\"p21551\"}},\"right\":{\"type\":\"expr\",\"expr\":{\"id\":\"p21552\"}},\"line_color\":{\"type\":\"value\",\"value\":\"#F5A623\"},\"line_alpha\":{\"type\":\"value\",\"value\":0.1},\"fill_color\":{\"type\":\"value\",\"value\":\"#F5A623\"},\"fill_alpha\":{\"type\":\"value\",\"value\":0.1},\"hatch_color\":{\"type\":\"value\",\"value\":\"#F5A623\"},\"hatch_alpha\":{\"type\":\"value\",\"value\":0.1}}},\"muted_glyph\":{\"type\":\"object\",\"name\":\"HBar\",\"id\":\"p21583\",\"attributes\":{\"y\":{\"type\":\"field\",\"field\":\"CONTRIBUTING FACTOR VEHICLE 1\"},\"height\":{\"type\":\"value\",\"value\":0.8},\"left\":{\"type\":\"expr\",\"expr\":{\"id\":\"p21551\"}},\"right\":{\"type\":\"expr\",\"expr\":{\"id\":\"p21552\"}},\"line_color\":{\"type\":\"value\",\"value\":\"#F5A623\"},\"line_alpha\":{\"type\":\"value\",\"value\":0.2},\"fill_color\":{\"type\":\"value\",\"value\":\"#F5A623\"},\"fill_alpha\":{\"type\":\"value\",\"value\":0.2},\"hatch_color\":{\"type\":\"value\",\"value\":\"#F5A623\"},\"hatch_alpha\":{\"type\":\"value\",\"value\":0.2}}}}},{\"type\":\"object\",\"name\":\"GlyphRenderer\",\"id\":\"p21609\",\"attributes\":{\"name\":\"PEDESTRIAN_KILLED\",\"data_source\":{\"id\":\"p21359\"},\"view\":{\"type\":\"object\",\"name\":\"CDSView\",\"id\":\"p21610\",\"attributes\":{\"filter\":{\"type\":\"object\",\"name\":\"AllIndices\",\"id\":\"p21611\"}}},\"glyph\":{\"type\":\"object\",\"name\":\"HBar\",\"id\":\"p21606\",\"attributes\":{\"y\":{\"type\":\"field\",\"field\":\"CONTRIBUTING FACTOR VEHICLE 1\"},\"height\":{\"type\":\"value\",\"value\":0.8},\"left\":{\"type\":\"expr\",\"expr\":{\"type\":\"object\",\"name\":\"Stack\",\"id\":\"p21553\",\"attributes\":{\"fields\":[\"MOTORIST_KILLED\",\"CYCLIST_KILLED\"]}}},\"right\":{\"type\":\"expr\",\"expr\":{\"type\":\"object\",\"name\":\"Stack\",\"id\":\"p21554\",\"attributes\":{\"fields\":[\"MOTORIST_KILLED\",\"CYCLIST_KILLED\",\"PEDESTRIAN_KILLED\"]}}},\"line_color\":{\"type\":\"value\",\"value\":\"#4CAF50\"},\"fill_color\":{\"type\":\"value\",\"value\":\"#4CAF50\"},\"hatch_color\":{\"type\":\"value\",\"value\":\"#4CAF50\"}}},\"nonselection_glyph\":{\"type\":\"object\",\"name\":\"HBar\",\"id\":\"p21607\",\"attributes\":{\"y\":{\"type\":\"field\",\"field\":\"CONTRIBUTING FACTOR VEHICLE 1\"},\"height\":{\"type\":\"value\",\"value\":0.8},\"left\":{\"type\":\"expr\",\"expr\":{\"id\":\"p21553\"}},\"right\":{\"type\":\"expr\",\"expr\":{\"id\":\"p21554\"}},\"line_color\":{\"type\":\"value\",\"value\":\"#4CAF50\"},\"line_alpha\":{\"type\":\"value\",\"value\":0.1},\"fill_color\":{\"type\":\"value\",\"value\":\"#4CAF50\"},\"fill_alpha\":{\"type\":\"value\",\"value\":0.1},\"hatch_color\":{\"type\":\"value\",\"value\":\"#4CAF50\"},\"hatch_alpha\":{\"type\":\"value\",\"value\":0.1}}},\"muted_glyph\":{\"type\":\"object\",\"name\":\"HBar\",\"id\":\"p21608\",\"attributes\":{\"y\":{\"type\":\"field\",\"field\":\"CONTRIBUTING FACTOR VEHICLE 1\"},\"height\":{\"type\":\"value\",\"value\":0.8},\"left\":{\"type\":\"expr\",\"expr\":{\"id\":\"p21553\"}},\"right\":{\"type\":\"expr\",\"expr\":{\"id\":\"p21554\"}},\"line_color\":{\"type\":\"value\",\"value\":\"#4CAF50\"},\"line_alpha\":{\"type\":\"value\",\"value\":0.2},\"fill_color\":{\"type\":\"value\",\"value\":\"#4CAF50\"},\"fill_alpha\":{\"type\":\"value\",\"value\":0.2},\"hatch_color\":{\"type\":\"value\",\"value\":\"#4CAF50\"},\"hatch_alpha\":{\"type\":\"value\",\"value\":0.2}}}}}],\"toolbar\":{\"type\":\"object\",\"name\":\"Toolbar\",\"id\":\"p21433\",\"attributes\":{\"tools\":[{\"type\":\"object\",\"name\":\"HoverTool\",\"id\":\"p21633\",\"attributes\":{\"renderers\":\"auto\",\"tooltips\":[[\"Contributing Factor\",\"@{CONTRIBUTING FACTOR VEHICLE 1}\"],[\"Motorist\",\"@{MOTORIST_KILLED}\"],[\"Cyclist\",\"@{CYCLIST_KILLED}\"],[\"Pedestrian\",\"@{PEDESTRIAN_KILLED}\"]]}}]}},\"toolbar_location\":null,\"left\":[{\"type\":\"object\",\"name\":\"CategoricalAxis\",\"id\":\"p21451\",\"attributes\":{\"ticker\":{\"type\":\"object\",\"name\":\"CategoricalTicker\",\"id\":\"p21452\"},\"formatter\":{\"type\":\"object\",\"name\":\"CategoricalTickFormatter\",\"id\":\"p21454\"},\"major_label_policy\":{\"type\":\"object\",\"name\":\"AllLabels\",\"id\":\"p21453\"}}}],\"below\":[{\"type\":\"object\",\"name\":\"LinearAxis\",\"id\":\"p21444\",\"attributes\":{\"ticker\":{\"type\":\"object\",\"name\":\"BasicTicker\",\"id\":\"p21445\",\"attributes\":{\"mantissas\":[1,2,5]}},\"formatter\":{\"type\":\"object\",\"name\":\"BasicTickFormatter\",\"id\":\"p21447\"},\"major_label_policy\":{\"type\":\"object\",\"name\":\"AllLabels\",\"id\":\"p21446\"}}}],\"center\":[{\"type\":\"object\",\"name\":\"Grid\",\"id\":\"p21450\",\"attributes\":{\"axis\":{\"id\":\"p21444\"}}},{\"type\":\"object\",\"name\":\"Grid\",\"id\":\"p21456\",\"attributes\":{\"dimension\":1,\"axis\":{\"id\":\"p21451\"}}},{\"type\":\"object\",\"name\":\"Legend\",\"id\":\"p21576\",\"attributes\":{\"location\":\"bottom_right\",\"orientation\":\"horizontal\",\"items\":[{\"type\":\"object\",\"name\":\"LegendItem\",\"id\":\"p21577\",\"attributes\":{\"label\":{\"type\":\"value\",\"value\":\"Motorist\"},\"renderers\":[{\"id\":\"p21561\"}]}},{\"type\":\"object\",\"name\":\"LegendItem\",\"id\":\"p21602\",\"attributes\":{\"label\":{\"type\":\"value\",\"value\":\"Cyclist\"},\"renderers\":[{\"id\":\"p21584\"}]}},{\"type\":\"object\",\"name\":\"LegendItem\",\"id\":\"p21630\",\"attributes\":{\"label\":{\"type\":\"value\",\"value\":\"Pedestrian\"},\"renderers\":[{\"id\":\"p21609\"}]}}]}}]}}}}]}}]}};\n  const render_items = [{\"docid\":\"78fb722b-f84f-4a08-9f7b-c1180f914d61\",\"roots\":{\"p21640\":\"e24058aa-b701-46a0-b826-fbe7399e1afb\"},\"root_ids\":[\"p21640\"]}];\n  root.Bokeh.embed.embed_items_notebook(docs_json, render_items);\n  }\n  if (root.Bokeh !== undefined) {\n    embed_document(root);\n  } else {\n    let attempts = 0;\n    const timer = setInterval(function(root) {\n      if (root.Bokeh !== undefined) {\n        clearInterval(timer);\n        embed_document(root);\n      } else {\n        attempts++;\n        if (attempts > 100) {\n          clearInterval(timer);\n          console.log(\"Bokeh: ERROR: Unable to run BokehJS code because BokehJS library is missing\");\n        }\n      }\n    }, 10, root)\n  }\n})(window);",
      "application/vnd.bokehjs_exec.v0+json": ""
     },
     "metadata": {
      "application/vnd.bokehjs_exec.v0+json": {
       "id": "p21640"
      }
     },
     "output_type": "display_data"
    }
   ],
   "source": [
    "# sort the df by the sum of the three categories\n",
    "df_injured['sum'] = df_injured['MOTORIST_INJURED'] + df_injured['CYCLIST_INJURED'] + df_injured['PEDESTRIAN_INJURED']\n",
    "df_killed['sum'] = df_killed['MOTORIST_KILLED'] + df_killed['CYCLIST_KILLED'] + df_killed['PEDESTRIAN_KILLED']\n",
    "df_injured = df_injured.sort_values(by=['sum'], ascending=True)\n",
    "df_killed = df_killed.sort_values(by=['sum'], ascending=True)\n",
    "df_material_damage = df_material_damage.sort_values(by=['MATERIAL DAMAGE'], ascending=True)\n",
    "\n",
    "# drop the rows with 'Unspecified' as the contributing factor\n",
    "df_injured = df_injured[df_injured['CONTRIBUTING FACTOR VEHICLE 1'] != 'Unspecified']\n",
    "df_killed = df_killed[df_killed['CONTRIBUTING FACTOR VEHICLE 1'] != 'Unspecified']\n",
    "df_material_damage = df_material_damage[df_material_damage['CONTRIBUTING FACTOR VEHICLE 1'] != 'Unspecified']\n",
    "\n",
    "# only keep the top 8 contributing factors\n",
    "df_injured = df_injured.head(8)\n",
    "df_killed = df_killed.head(8)\n",
    "df_material_damage = df_material_damage.head(8)\n",
    "\n",
    "\n",
    "# create a ColumnDataSource object for each category\n",
    "source_material_damage = ColumnDataSource(df_material_damage)\n",
    "source_injured = ColumnDataSource(df_injured)\n",
    "source_killed = ColumnDataSource(df_killed)\n",
    "\n",
    "# create a figure object for each category\n",
    "p_material_damage = figure(y_range=df_material_damage['CONTRIBUTING FACTOR VEHICLE 1'], height=500, width=1000, title='Most Frequent Contributing Factors for Material Damage', toolbar_location=None, tools='')\n",
    "p_injured = figure(y_range=df_injured['CONTRIBUTING FACTOR VEHICLE 1'], height=500, width=1000, title='Most Frequent Contributing Factors for Injured', toolbar_location=None, tools='')\n",
    "p_killed = figure(y_range=df_killed['CONTRIBUTING FACTOR VEHICLE 1'], height=500, width=1000, title='Most Frequent Contributing Factors for Killed', toolbar_location=None, tools='')\n",
    "#p_material_damage.xaxis.major_label_orientation = math.pi/2\n",
    "#p_injured.xaxis.major_label_orientation = math.pi/2\n",
    "#p_killed.xaxis.major_label_orientation = math.pi/2\n",
    "\n",
    "# remove x < 0 axis\n",
    "p_material_damage.x_range.start = 0\n",
    "p_injured.x_range.start = 0\n",
    "p_killed.x_range.start = 0\n",
    "\n",
    "# specify pleasent colors for each category\n",
    "colors = [\"#4271AE\", \"#F5A623\", \"#4CAF50\"]\n",
    "\n",
    "\n",
    "\n",
    "# create a stacked bar plot for each category\n",
    "p_material_damage.hbar(y='CONTRIBUTING FACTOR VEHICLE 1', left=0, right='MATERIAL DAMAGE', height=0.8, color=colors[0], source=source_material_damage)\n",
    "p_injured.hbar_stack(['MOTORIST_INJURED', 'CYCLIST_INJURED', 'PEDESTRIAN_INJURED'], y='CONTRIBUTING FACTOR VEHICLE 1', height=0.8, color=colors, source=source_injured, legend_label=['Motorist', 'Cyclist', 'Pedestrian'])\n",
    "p_killed.hbar_stack(['MOTORIST_KILLED', 'CYCLIST_KILLED', 'PEDESTRIAN_KILLED'], y='CONTRIBUTING FACTOR VEHICLE 1', height=0.8 , color=colors, source=source_killed, legend_label=['Motorist', 'Cyclist', 'Pedestrian'])\n",
    "\n",
    "# add hover tool to each figure\n",
    "hover_material_damage = HoverTool(tooltips=[('Contributing Factor', '@{CONTRIBUTING FACTOR VEHICLE 1}'), ('Material Damage', '@{MATERIAL DAMAGE}')])\n",
    "hover_injured = HoverTool(tooltips=[('Contributing Factor', '@{CONTRIBUTING FACTOR VEHICLE 1}'), ('Motorist', '@{MOTORIST_INJURED}'), ('Cyclist', '@{CYCLIST_INJURED}'), ('Pedestrian', '@{PEDESTRIAN_INJURED}')])\n",
    "hover_killed = HoverTool(tooltips=[('Contributing Factor', '@{CONTRIBUTING FACTOR VEHICLE 1}'), ('Motorist', '@{MOTORIST_KILLED}'), ('Cyclist', '@{CYCLIST_KILLED}'), ('Pedestrian', '@{PEDESTRIAN_KILLED}')])\n",
    "\n",
    "p_material_damage.add_tools(hover_material_damage)\n",
    "p_injured.add_tools(hover_injured)\n",
    "p_killed.add_tools(hover_killed)\n",
    "\n",
    "# add legend to each figure\n",
    "p_injured.legend.location = 'bottom_right'\n",
    "p_injured.legend.orientation = 'horizontal'\n",
    "p_killed.legend.location = 'bottom_right'\n",
    "p_killed.legend.orientation = 'horizontal'\n",
    "\n",
    "# create tabs for each category\n",
    "tab_material_damage = TabPanel(child=p_material_damage, title='Material Damage')\n",
    "tab_injured = TabPanel(child=p_injured, title='Injured')\n",
    "tab_killed = TabPanel(child=p_killed, title='Killed')\n",
    "\n",
    "# create a Tabs object with the two tabs\n",
    "tabs = Tabs(tabs=[tab_material_damage, tab_injured, tab_killed])\n",
    "\n",
    "# show the plot\n",
    "show(tabs)\n"
   ]
  }
 ],
 "metadata": {
  "kernelspec": {
   "display_name": "socialdata",
   "language": "python",
   "name": "python3"
  },
  "language_info": {
   "codemirror_mode": {
    "name": "ipython",
    "version": 3
   },
   "file_extension": ".py",
   "mimetype": "text/x-python",
   "name": "python",
   "nbconvert_exporter": "python",
   "pygments_lexer": "ipython3",
   "version": "3.9.16"
  },
  "orig_nbformat": 4
 },
 "nbformat": 4,
 "nbformat_minor": 2
}
