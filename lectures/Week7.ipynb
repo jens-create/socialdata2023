{
 "cells": [
  {
   "cell_type": "markdown",
   "id": "b37dbfbd",
   "metadata": {},
   "source": [
    "## Intro\n",
    "\n",
    "This week we're going to try something a little bit different. We're going to set up a website on GitHub. The reason we're doing this is the web is a much more natural format for data visualization than static forms like paper. Online, you can make visualizations interactive and you can create more complex narrative structures around your visualizations.\n",
    "\n",
    "> *Exercise*: Create a cool webpage that you can use as a medium for your visualizations. \n",
    "\n",
    "## Website tutorial\n",
    "\n",
    "In the past, I used to think that creating a website was something everyone could simply do. But it's been a pain-point for many students, so this year I decided to simply make the website creation an exercise that we do in class. \n",
    "\n",
    "Below you'll find a tutorial optimized for you all. I've chosen to use GitHub pages https://pages.github.com in combination with [Jekyll](https://jekyllrb.com) since everything is open source, [MarkDown](https://www.markdownguide.org)-based, and free. And as an added benefit, you need to learn how to use Git in order to get the page going. \n",
    "\n",
    "The way it works is that you\n",
    "\n",
    "* Use Jekyll (locally) to create a bunch of files that compile into a cool website.\n",
    "* Then push those files to GitHub.\n",
    "* GitHub then serves those files to the world.\n",
    "\n",
    "If you want to update your website, you change the files locally (change layout, add posts, etc), and then push the updated files to generate the updated website. \n",
    "\n",
    "(This tutorial is essentially a simplified version of https://docs.github.com/en/pages/setting-up-a-github-pages-site-with-jekyll that I created to make life easy for you guys.)"
   ]
  },
  {
   "cell_type": "markdown",
   "id": "1e7ad8d3",
   "metadata": {},
   "source": [
    "### Step 1. Make sure you know how git works\n",
    "\n",
    "In order for this whole thing to work, you need to be relatively comfortable with using Git and GitHub via the terminal. Hopefully you've already started that process during the class, but in case you're not 100% comfortable, I recommend you go on line and watch a tutorial video. It's part of the exercise for you to find one you like.\n",
    "\n",
    "* **Milestone**. As a minimum I'd like you to be able to create a local version of an online repo and be comfortable with the git commands `add`, `commit`, `push`, `pull`, and `merge`."
   ]
  },
  {
   "cell_type": "markdown",
   "id": "40e50394",
   "metadata": {},
   "source": [
    "### Step 2. Install Ruby and Jekyll\n",
    "\n",
    "The Jekyll framwork that will generate your site runs on a programming language called [Ruby](https://www.ruby-lang.org/en/). You won't need to get good at Ruby to create the site, but you will need to install it. Your computer may come with a pre-installed version of Ruby, but for a variety of complex reasons we're not going to use that. Instead you should install the most updated version according to the instructions found here:\n",
    "\n",
    "> https://jekyllrb.com/docs/installation/#guides (click on your OS for further details)\n",
    "\n",
    "Those instructions also detail how to install Jekyll once you've got the right Ruby version set up."
   ]
  },
  {
   "cell_type": "markdown",
   "id": "49238e75",
   "metadata": {},
   "source": [
    "### Step 3. Set up your website repo on GitHub and check it out to your own computer\n",
    "\n",
    "The free website format on GitHub pages has the formate `https://USERNAME.github.io`, where you insert your own GitHub `USERNAME` so in my case it's `https://suneman.github.io`. \n",
    "\n",
    "Below, I'll use the generic `USERNAME` as the example, but remember to substitute your own, when you set it up yourself.\n",
    "\n",
    "To get it going, you need to **start a new repo** with the name `USERNAME.github.io`. One way of doing that is to use the GitHub we interface as shown [here](https://docs.github.com/en/pages/setting-up-a-github-pages-site-with-jekyll/creating-a-github-pages-site-with-jekyll#creating-a-repository-for-your-site).\n",
    "\n",
    "Finally, use your skills from Step 1 to create a local copy of your empty repo."
   ]
  },
  {
   "cell_type": "markdown",
   "id": "41960258",
   "metadata": {},
   "source": [
    "### Step 4: Set up your site\n",
    "\n",
    "Using the terminal, navigate so that you're inside your local `USERNAME.github.io` folder and type the following\n",
    "\n",
    "```\n",
    "jekyll new --skip-bundle .\n",
    "```\n",
    "\n",
    "which creates a Jekyll site in the current directory. That creates a bunch of files and directories. Those files are essentially your website. Now we're going to edit those files to personalize the website.\n",
    "\n",
    "* Open the `Gemfile` that Jekyll created.\n",
    "* Add \"#\" to the beginning of the line that starts with gem \"jekyll\" to comment out this line.\n",
    "* Add the github-pages gem by editing the line starting with # gem \"github-pages\". Change this line to:\n",
    "   - `gem \"github-pages\", \"~> GITHUB-PAGES-VERSION\", group: :jekyll_plugins`\n",
    "* In the line of code above, replace `GITHUB-PAGES-VERSION` with the latest supported version of the github-pages gem (currently it's 228). More generally, you can find this version here: [Dependency versions](https://pages.github.com/versions/).\n",
    "* Save and close the Gemfile.\n",
    "* From the command line, run `bundle install`.\n",
    "\n",
    "Now you're ready to `push` this generic version of your site to GitHub. You should know how to do that, but here are the commands for your convenience.\n",
    "```\n",
    "git add .\n",
    "git commit -m 'Initial GitHub pages site with Jekyll'\n",
    "```\n"
   ]
  },
  {
   "cell_type": "markdown",
   "id": "6446991d",
   "metadata": {},
   "source": [
    "### Step 5: Edit GitHub settings your site will show on the web\n",
    "\n",
    "You have to set up GitHub so that\n",
    "\n",
    "Follow the instructions here https://docs.github.com/en/pages/getting-started-with-github-pages/configuring-a-publishing-source-for-your-github-pages-site \n",
    "\n",
    "If you have followed my instructions, you can use the following settings\n",
    "\n",
    "* The source directory is simply the `USERNAME.github.io` folder\n",
    "* The branch should be `main`.\n",
    "\n",
    "Once that's set, you should be able to see your site on https://USERNAME.github.io"
   ]
  },
  {
   "cell_type": "markdown",
   "id": "9d8d11cb",
   "metadata": {},
   "source": [
    "### Step 6: Customize your site\n",
    "\n",
    "For now, your site is simply the default Jekyll theme (designed for blogging), with the default content. The goal from now on is to personalize the site. Since you're up and running with the basics, the instructions from now on will be a bit more sparse than above.\n",
    "\n",
    "**Update the config.** The first thing you can do is update the `_config.yml` file to contain information about you: The site author(s). Notes on how to do that can be found in **bullet 13** here https://docs.github.com/en/pages/setting-up-a-github-pages-site-with-jekyll/creating-a-github-pages-site-with-jekyll \n",
    "\n",
    "**Modify the structure to suit your needs**. Right now your site is set up for blogging, that's a format where you can add new blog-posts (by adding MarkDown files with the format `YEAR-MONTH-DAY-title.markdown`, to the `_posts` folder (so a new post could be called `2023-03-10-how-to-set-up-a-website.markdown`) and static pages by adding stuff to the `_site` folder. There's a bit of formatting you need to add to the top of posts/pages. Read more about all this stuff [here](https://docs.github.com/en/pages/setting-up-a-github-pages-site-with-jekyll/adding-content-to-your-github-pages-site-using-jekyll).\n",
    "\n",
    "Again, you should make the changes locally in your local `USERNAME.github.io` folder and then push those changes to GitHub so they're available online for the world to see.\n",
    "\n",
    "The goal here is to modify your site so that it's ready to tell stories about data. There are many ways to do this. You can cleverly name the posts, you can use only static pages, our you can change the structure by using a cool new theme that's more appropriate for your purposes (see below).\n",
    "\n",
    "**Make cool tweaks**. By using plugins and predesigned themes, you can make Jekyll do cool stuff. Some of the things I personally like is that you can\n",
    "* [optional] Extend functionality using [plugins](https://docs.github.com/en/pages/setting-up-a-github-pages-site-with-jekyll/about-github-pages-and-jekyll#plugins).\n",
    "* [optional] Choose a theme that fits your dataviz.\n",
    "* [optional] Tweak the CSS of your site to personalize further. Read more [here](https://docs.github.com/en/pages/setting-up-a-github-pages-site-with-jekyll/adding-a-theme-to-your-github-pages-site-using-jekyll#customizing-your-themes-css).\n",
    "* [optional] Set up your site so that you can render math beautifully using latex.\n",
    "\n",
    "You can find info about themes here https://docs.github.com/en/pages/setting-up-a-github-pages-site-with-jekyll/adding-a-theme-to-your-github-pages-site-using-jekyll and there's also lots of info about whatever you're interested in on line. Play around. Hopefully you'll have fun."
   ]
  },
  {
   "cell_type": "markdown",
   "id": "8ac80225",
   "metadata": {},
   "source": [
    "### Step 7: Add content to your site\n",
    "\n",
    "As a final little thing today, you should put some content on your site. \n",
    "* Try writing a little bit.\n",
    "* Try adding a static graphic from the curse (you can host the image file on GitHub!)\n",
    "* Try adding the Bokeh viz that you made last time. Take a look [here](https://barrysunderland.com/blog/embedding-bokeh-plots.html#static-bokeh-as-a-static-file), for example.\n",
    "\n",
    "And that's it! You're done 😇\n",
    "\n",
    "Next time, you will use this site to create a little narrative data-story based on your work in the class so far!"
   ]
  },
  {
   "cell_type": "code",
   "execution_count": null,
   "id": "84320010",
   "metadata": {},
   "outputs": [],
   "source": []
  }
 ],
 "metadata": {
  "kernelspec": {
   "display_name": "Python 3 (ipykernel)",
   "language": "python",
   "name": "python3"
  },
  "language_info": {
   "codemirror_mode": {
    "name": "ipython",
    "version": 3
   },
   "file_extension": ".py",
   "mimetype": "text/x-python",
   "name": "python",
   "nbconvert_exporter": "python",
   "pygments_lexer": "ipython3",
   "version": "3.9.16"
  }
 },
 "nbformat": 4,
 "nbformat_minor": 5
}
