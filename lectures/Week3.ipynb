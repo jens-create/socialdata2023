{
 "cells": [
  {
   "cell_type": "markdown",
   "metadata": {},
   "source": [
    "# Week 3\n",
    "\n",
    "I hope you're getting the hang of things. Today we're going on with the prinicples of data visualization!"
   ]
  },
  {
   "cell_type": "markdown",
   "metadata": {},
   "source": [
    "## Overview\n",
    "\n",
    "This week, we will work our way through four parts:\n",
    "\n",
    "* First a lecture. You will watch a video on visualization and solve a couple of exercises.\n",
    "* Second, some reading. We'll be reading about *scientific data visualization*, and the huge number of things you can do with just one variable. Naturally, we'll be answering questions about that book. \n",
    "* Third, we'll be reproducing some of the plots from that book.\n",
    "* And finally, we will get you going -- hands on -- with plotting geodata using Plotly. This is warming up for next time, when we'll dig deeper into geo-viz."
   ]
  },
  {
   "cell_type": "markdown",
   "metadata": {},
   "source": [
    "## A little bit of admin\n",
    "\n",
    "I will be posting assignment 1 during lecture 4. At that time, I'll talk about how to hand it (where to upload) and how we use peer evaluations in the course. But if you want to get started on that part already today, you can check out the video below. \n",
    "\n",
    "Some of you like to have this information early, so I'm posting it today. But **this admin part is not crucial to know about until next time, so you can safely skip if you're not interested**.\n",
    "\n",
    "[![VIDEO](https://img.youtube.com/vi/-TC18KgpiIQ/0.jpg)](https://www.youtube.com/watch?v=-TC18KgpiIQ)\n",
    "\n",
    "And after watching the video, you should make sure you're familiar with this page on the Wiki https://github.com/suneman/socialdata2023/wiki/Evaluations-vs-Grades"
   ]
  },
  {
   "cell_type": "markdown",
   "metadata": {},
   "source": [
    "## Part 1: Fundamentals of data visualization"
   ]
  },
  {
   "cell_type": "markdown",
   "metadata": {},
   "source": [
    "Last week we had a small introduction of data visualization. Today, we are going to be a bit more specific on data analysis and visualization. Digging a bit more into the theory with the next video.\n",
    "\n",
    "<mark>*You may feel tempted to skip the lectures on dataviz, but they are quite important. We don't have a formal book on data visualization. So the only source of knowledge about the **principles**, **theories**, and **ideas**, that are the foundation for good data viz, comes from the videos*. So **watch them** 🤓 </mark>\n",
    "\n",
    "[![IMAGE ALT TEXT HERE](https://img.youtube.com/vi/yiU56codNlI/0.jpg)](https://www.youtube.com/watch?v=yiU56codNlI)"
   ]
  },
  {
   "cell_type": "markdown",
   "metadata": {},
   "source": [
    "> *Excercise:* Questions for the lecture\n",
    "> * As mentioned earlier, visualization is not the only way to test for correlation. We can (for example) calculate the Pearson correlation. Explain in your own words how the Pearson correlation works and write down it's mathematical formulation. Can you think of an example where it fails (and visualization works)?\n",
    "> * What is the difference between a bar-chart and a histogram?\n",
    "> * I mention in the video that it's important to choose the right bin-size in histograms. But how do you do that? Do a Google search to find a criterion you like and explain it. "
   ]
  },
  {
   "attachments": {},
   "cell_type": "markdown",
   "metadata": {},
   "source": [
    "* Pearson correlation is a way of measuring linear correlation. The correlation is given by cov(X,Y)/(sd(X)*sd(Y)). Two distinct samples of X and Y can have the same correlation eventhough it is visibly clear that they are not the same. => Therefore, always plot!\n",
    "* A bar chart has a categories on the X-axis and the value on the Y-axis whereas a histogram have ranges of the value on the X-axis and the frequency of that range on the Y-axis.\n",
    "* It's difficult to determine the bin-size. There are many ways - you can google it."
   ]
  },
  {
   "cell_type": "markdown",
   "metadata": {},
   "source": [
    "## Part 2: Reading about the theory of visualization\n",
    "\n",
    "Since we can go deeper with the visualization this year, we are going to read the first couple of chapters from [*Data Analysis with Open Source Tools*](http://shop.oreilly.com/product/9780596802363.do) (DAOST). It's pretty old, but I think it's a fantastic resource and one that is pretty much as relevant now as it was back then. The author is a physicist (like Sune) so he likes the way he thinks. And the books takes the reader all the way from visualization, through modeling to computational mining. Anywho - it's a great book and well worth reading in its entirety. \n",
    "\n",
    "As part of this class we'll be reading the first chapters. Today, we'll read chaper 2 (the first 28 pages) which supports and deepens many of the points we made during the video above. \n",
    "\n",
    "To find the text, you will need to go to **DTU Learn**. It's under \"Course content\" $\\rightarrow$ \"Content\" $\\rightarrow$ \"Reading\" $\\rightarrow$ `DAOST_chapter1.pdf`."
   ]
  },
  {
   "cell_type": "markdown",
   "metadata": {},
   "source": [
    "> *Excercise*: Questions for DAOST\n",
    "> * Explain in your own words the point of the jitter plot.\n",
    "> * Explain in your own words the point of figure 2-3. (I'm going to skip saying \"in your own words\" going forward, but I hope you get the point; I expect all answers to be in your own words).\n",
    "> * The author of DAOST (Philipp Janert) likes KDEs (and think they're better than histograms). And we don't. Sune didn't give a detailed explanation in the video, but now that works to our advantage. We'll ask you to think about this and thereby create an excellent exercise: When can KDEs be misleading? \n",
    "> * Sune discussed some strengths of the CDF - there are also weaknesses. Janert writes \"CDFs have less intuitive appeal than histograms of KDEs\". What does he mean by that?\n",
    "> * What is a *Quantile plot*? What is it good for. \n",
    "> * How is a *Probablity plot* defined? What is it useful for? Have you ever seen one before?\n",
    "> * One of the reasons we like DAOST is that Janert is so suspicious of mean, median, and related summary statistics. Explain why one has to be careful when using those - and why visualization of the full data is always better. \n",
    "> * Sune loves box plots (but not enough to own one of [these](https://images.app.goo.gl/rpozyRX3xu5oFobt8) 😂). When are box plots most useful?\n",
    "> * The book doesn't mention [violin plots](https://en.wikipedia.org/wiki/Violin_plot). Are those better or worse than box plots? Why?\n",
    "> * Remember the box-plot part from [this video from last time](https://www.youtube.com/watch?v=DbJyPELmhJc) (the part that starts at 0:56)? Explain in your own words how this video illustrates potential issues even with box-plots? Do violin-plots help with that issue?"
   ]
  },
  {
   "attachments": {},
   "cell_type": "markdown",
   "metadata": {},
   "source": [
    "* To avoid points on top of each other by randomly shifting them on the y-axis (the axis not used for the actual values).\n",
    "* A histogram on the same data is not unique. It depends on the bin size and the anchoring point of the first bin.\n",
    "* If the bandwidth is large it can look like there are observations between two observations. Furthermore, if we have observations at the positive scale it will make it look like there exists negative observations.\n",
    "* A CDF require more thought than a histogram, as we are not directly looking at the values but the cumulative frequency.\n",
    "* Quantile plot: X and Y swapped on the CDF plot. Basically you can answer what the time it takes to answer e..g 50% of the requests.\n",
    "* A way to compare two distributions by looking at their quantiles. Probability plots allow us to check if data comes from a specific distribution family. Seen in statistics!\n",
    "* There are many reasons why summary statistics is not enough; basically unless the data is perfectly distributed it does not tell the full story => visualize!\n",
    "* Box plots are best when used to compare several distributions against one another—for a single distribution, the overhead of preparing and managing a graph (compared to just quoting the numbers) may often not appear justified. \n",
    "* They contain more information; the KDE. They can be better.\n",
    "* Boxplot does not show the distribution; i.e. wildly different distributions can look similar => violin plots help with this.\n"
   ]
  },
  {
   "cell_type": "markdown",
   "metadata": {},
   "source": [
    "## Part 3: Visualizations based on the book"
   ]
  },
  {
   "attachments": {},
   "cell_type": "markdown",
   "metadata": {},
   "source": [
    "> *Excercise Part 1*: Connecting the dots and recreating plots from DAOST but using our own favorite dataset.\n",
    "> * Let's make a jitter-plot (that is, code up something like **Figure 2-1** from DAOST from scratch), but based on *SF Police data*. My hunch from inspecting the file is that the police-folks might be a little bit lazy in noting down the **exact** time down to the second. So choose a crime-type and a suitable time interval (somewhere between a month and 6 months depending on the crime-type) and create a jitter plot of the arrest times during a single hour (like 13-14, for example). So let time run on the $x$-axis and create vertical jitter.\n",
    "> * Last time, we did lots of bar-plots. Today, we'll play around with histograms (creating two crime-data based versions of the plot-type shown in DAOST **Figure 2-2**). I think the GPS data could be fun to see this way. \n",
    ">   * This time, pick two crime-types with different geographical patterns **and** a suitable time-interval for each (you want between 1000 and 10000 points in your histogram)\n",
    ">   * Then take the latitude part of the GPS coordinates for each crime and bin the latitudes so that you have around 50 bins across the city of SF. You can use your favorite method for binning. I like `numpy.histogram`. This function gives you the counts and then you do your own plotting. \n",
    "> * Next up is using the plot-type shown in **Figure 2-4** from DAOST, but with the data you used to create Figure 2.1. There is not a single great way to create kernel density plots in Python. [Here](https://www.geeksforgeeks.org/density-plots-with-pandas-in-python/), you'll finde a pandas based strategy, but you can also use `gaussian_kde` from `scipy.stats` ([for an example, check out this stackoverflow post](https://stackoverflow.com/questions/4150171/how-to-create-a-density-plot-in-matplotlib)) or you can use [`seaborn.kdeplot`](https://seaborn.pydata.org/generated/seaborn.kdeplot.html). There is also another nice tutorial for KDE plots [here](https://towardsdatascience.com/histograms-and-density-plots-in-python-f6bda88f5ac0).\n",
    "> * Now grab 25 random timepoints from the dataset (of 1000-10000 original data) you've just plotted and create a version of Figure 2-4 based on the 25 data points. Does this shed light on why I think KDEs can be misleading? \n",
    ">"
   ]
  },
  {
   "cell_type": "code",
   "execution_count": 16,
   "metadata": {},
   "outputs": [
    {
     "data": {
      "text/html": [
       "<div>\n",
       "<style scoped>\n",
       "    .dataframe tbody tr th:only-of-type {\n",
       "        vertical-align: middle;\n",
       "    }\n",
       "\n",
       "    .dataframe tbody tr th {\n",
       "        vertical-align: top;\n",
       "    }\n",
       "\n",
       "    .dataframe thead th {\n",
       "        text-align: right;\n",
       "    }\n",
       "</style>\n",
       "<table border=\"1\" class=\"dataframe\">\n",
       "  <thead>\n",
       "    <tr style=\"text-align: right;\">\n",
       "      <th></th>\n",
       "      <th>PdId</th>\n",
       "      <th>IncidntNum</th>\n",
       "      <th>Incident Code</th>\n",
       "      <th>Category</th>\n",
       "      <th>Descript</th>\n",
       "      <th>DayOfWeek</th>\n",
       "      <th>Date</th>\n",
       "      <th>Time</th>\n",
       "      <th>PdDistrict</th>\n",
       "      <th>Resolution</th>\n",
       "      <th>...</th>\n",
       "      <th>CBD, BID and GBD Boundaries as of 2017 2 2</th>\n",
       "      <th>Areas of Vulnerability, 2016 2 2</th>\n",
       "      <th>Central Market/Tenderloin Boundary 2 2</th>\n",
       "      <th>Central Market/Tenderloin Boundary Polygon - Updated 2 2</th>\n",
       "      <th>HSOC Zones as of 2018-06-05 2 2</th>\n",
       "      <th>OWED Public Spaces 2 2</th>\n",
       "      <th>Neighborhoods 2</th>\n",
       "      <th>Timestamp</th>\n",
       "      <th>hour</th>\n",
       "      <th>minute</th>\n",
       "    </tr>\n",
       "  </thead>\n",
       "  <tbody>\n",
       "    <tr>\n",
       "      <th>0</th>\n",
       "      <td>4133422003074</td>\n",
       "      <td>41334220</td>\n",
       "      <td>3074</td>\n",
       "      <td>ROBBERY</td>\n",
       "      <td>ROBBERY, BODILY FORCE</td>\n",
       "      <td>Monday</td>\n",
       "      <td>2004-11-22</td>\n",
       "      <td>17:50</td>\n",
       "      <td>INGLESIDE</td>\n",
       "      <td>NONE</td>\n",
       "      <td>...</td>\n",
       "      <td>NaN</td>\n",
       "      <td>NaN</td>\n",
       "      <td>NaN</td>\n",
       "      <td>NaN</td>\n",
       "      <td>NaN</td>\n",
       "      <td>NaN</td>\n",
       "      <td>NaN</td>\n",
       "      <td>2004-11-22 17:50:00</td>\n",
       "      <td>17</td>\n",
       "      <td>50</td>\n",
       "    </tr>\n",
       "    <tr>\n",
       "      <th>1</th>\n",
       "      <td>5118535807021</td>\n",
       "      <td>51185358</td>\n",
       "      <td>7021</td>\n",
       "      <td>VEHICLE THEFT</td>\n",
       "      <td>STOLEN AUTOMOBILE</td>\n",
       "      <td>Tuesday</td>\n",
       "      <td>2005-10-18</td>\n",
       "      <td>20:00</td>\n",
       "      <td>PARK</td>\n",
       "      <td>NONE</td>\n",
       "      <td>...</td>\n",
       "      <td>NaN</td>\n",
       "      <td>NaN</td>\n",
       "      <td>NaN</td>\n",
       "      <td>NaN</td>\n",
       "      <td>NaN</td>\n",
       "      <td>NaN</td>\n",
       "      <td>NaN</td>\n",
       "      <td>2005-10-18 20:00:00</td>\n",
       "      <td>20</td>\n",
       "      <td>0</td>\n",
       "    </tr>\n",
       "    <tr>\n",
       "      <th>2</th>\n",
       "      <td>4018830907021</td>\n",
       "      <td>40188309</td>\n",
       "      <td>7021</td>\n",
       "      <td>VEHICLE THEFT</td>\n",
       "      <td>STOLEN AUTOMOBILE</td>\n",
       "      <td>Sunday</td>\n",
       "      <td>2004-02-15</td>\n",
       "      <td>02:00</td>\n",
       "      <td>SOUTHERN</td>\n",
       "      <td>NONE</td>\n",
       "      <td>...</td>\n",
       "      <td>NaN</td>\n",
       "      <td>NaN</td>\n",
       "      <td>NaN</td>\n",
       "      <td>NaN</td>\n",
       "      <td>NaN</td>\n",
       "      <td>NaN</td>\n",
       "      <td>NaN</td>\n",
       "      <td>2004-02-15 02:00:00</td>\n",
       "      <td>2</td>\n",
       "      <td>0</td>\n",
       "    </tr>\n",
       "    <tr>\n",
       "      <th>3</th>\n",
       "      <td>11014543126030</td>\n",
       "      <td>110145431</td>\n",
       "      <td>26030</td>\n",
       "      <td>ARSON</td>\n",
       "      <td>ARSON</td>\n",
       "      <td>Friday</td>\n",
       "      <td>2011-02-18</td>\n",
       "      <td>05:27</td>\n",
       "      <td>INGLESIDE</td>\n",
       "      <td>NONE</td>\n",
       "      <td>...</td>\n",
       "      <td>NaN</td>\n",
       "      <td>1.0</td>\n",
       "      <td>NaN</td>\n",
       "      <td>NaN</td>\n",
       "      <td>NaN</td>\n",
       "      <td>NaN</td>\n",
       "      <td>94.0</td>\n",
       "      <td>2011-02-18 05:27:00</td>\n",
       "      <td>5</td>\n",
       "      <td>27</td>\n",
       "    </tr>\n",
       "    <tr>\n",
       "      <th>4</th>\n",
       "      <td>10108108004134</td>\n",
       "      <td>101081080</td>\n",
       "      <td>4134</td>\n",
       "      <td>ASSAULT</td>\n",
       "      <td>BATTERY</td>\n",
       "      <td>Sunday</td>\n",
       "      <td>2010-11-21</td>\n",
       "      <td>17:00</td>\n",
       "      <td>SOUTHERN</td>\n",
       "      <td>NONE</td>\n",
       "      <td>...</td>\n",
       "      <td>NaN</td>\n",
       "      <td>2.0</td>\n",
       "      <td>NaN</td>\n",
       "      <td>NaN</td>\n",
       "      <td>NaN</td>\n",
       "      <td>NaN</td>\n",
       "      <td>32.0</td>\n",
       "      <td>2010-11-21 17:00:00</td>\n",
       "      <td>17</td>\n",
       "      <td>0</td>\n",
       "    </tr>\n",
       "  </tbody>\n",
       "</table>\n",
       "<p>5 rows × 38 columns</p>\n",
       "</div>"
      ],
      "text/plain": [
       "             PdId  IncidntNum  Incident Code       Category  \\\n",
       "0   4133422003074    41334220           3074        ROBBERY   \n",
       "1   5118535807021    51185358           7021  VEHICLE THEFT   \n",
       "2   4018830907021    40188309           7021  VEHICLE THEFT   \n",
       "3  11014543126030   110145431          26030          ARSON   \n",
       "4  10108108004134   101081080           4134        ASSAULT   \n",
       "\n",
       "                Descript DayOfWeek       Date   Time PdDistrict Resolution  \\\n",
       "0  ROBBERY, BODILY FORCE    Monday 2004-11-22  17:50  INGLESIDE       NONE   \n",
       "1      STOLEN AUTOMOBILE   Tuesday 2005-10-18  20:00       PARK       NONE   \n",
       "2      STOLEN AUTOMOBILE    Sunday 2004-02-15  02:00   SOUTHERN       NONE   \n",
       "3                  ARSON    Friday 2011-02-18  05:27  INGLESIDE       NONE   \n",
       "4                BATTERY    Sunday 2010-11-21  17:00   SOUTHERN       NONE   \n",
       "\n",
       "   ... CBD, BID and GBD Boundaries as of 2017 2 2  \\\n",
       "0  ...                                        NaN   \n",
       "1  ...                                        NaN   \n",
       "2  ...                                        NaN   \n",
       "3  ...                                        NaN   \n",
       "4  ...                                        NaN   \n",
       "\n",
       "   Areas of Vulnerability, 2016 2 2  Central Market/Tenderloin Boundary 2 2  \\\n",
       "0                               NaN                                     NaN   \n",
       "1                               NaN                                     NaN   \n",
       "2                               NaN                                     NaN   \n",
       "3                               1.0                                     NaN   \n",
       "4                               2.0                                     NaN   \n",
       "\n",
       "  Central Market/Tenderloin Boundary Polygon - Updated 2 2  \\\n",
       "0                                                NaN         \n",
       "1                                                NaN         \n",
       "2                                                NaN         \n",
       "3                                                NaN         \n",
       "4                                                NaN         \n",
       "\n",
       "   HSOC Zones as of 2018-06-05 2 2  OWED Public Spaces 2 2  Neighborhoods 2  \\\n",
       "0                              NaN                     NaN              NaN   \n",
       "1                              NaN                     NaN              NaN   \n",
       "2                              NaN                     NaN              NaN   \n",
       "3                              NaN                     NaN             94.0   \n",
       "4                              NaN                     NaN             32.0   \n",
       "\n",
       "            Timestamp  hour  minute  \n",
       "0 2004-11-22 17:50:00    17      50  \n",
       "1 2005-10-18 20:00:00    20       0  \n",
       "2 2004-02-15 02:00:00     2       0  \n",
       "3 2011-02-18 05:27:00     5      27  \n",
       "4 2010-11-21 17:00:00    17       0  \n",
       "\n",
       "[5 rows x 38 columns]"
      ]
     },
     "execution_count": 16,
     "metadata": {},
     "output_type": "execute_result"
    }
   ],
   "source": [
    "import pandas as pd\n",
    "import seaborn as sns\n",
    "df = pd.read_csv(\"/Users/jenspt/Desktop/git/socialdata2023/Police_Department_Incident_Reports__Historical_2003_to_May_2018.csv\")\n",
    "\n",
    "df[\"Timestamp\"] = pd.to_datetime(df[\"Date\"]+df[\"Time\"], format=\"%m/%d/%Y%H:%M\")\n",
    "df[\"Date\"] = pd.to_datetime(df[\"Date\"], format=\"%m/%d/%Y\")\n",
    "df = df[df[\"Timestamp\"] < \"12/31/2017\"]\n",
    "df['hour'] = df['Timestamp'].dt.hour\n",
    "df['minute'] = df['Timestamp'].dt.minute\n",
    "df.head()"
   ]
  },
  {
   "attachments": {},
   "cell_type": "markdown",
   "metadata": {},
   "source": [
    "## Jitter plot"
   ]
  },
  {
   "cell_type": "code",
   "execution_count": 30,
   "metadata": {},
   "outputs": [
    {
     "data": {
      "text/plain": [
       "<AxesSubplot: xlabel='minute'>"
      ]
     },
     "execution_count": 30,
     "metadata": {},
     "output_type": "execute_result"
    },
    {
     "data": {
      "image/png": "[encoded data removed]",
      "text/plain": [
       "<Figure size 640x480 with 1 Axes>"
      ]
     },
     "metadata": {},
     "output_type": "display_data"
    }
   ],
   "source": [
    "c1 = (df[\"Timestamp\"] > \"10/30/2017\")\n",
    "c2 = (df[\"Category\"] == \"ASSAULT\")\n",
    "c3 = (df[\"hour\"] >= 12)\n",
    "c4 = (df[\"hour\"] < 13)\n",
    "\n",
    "\n",
    "df_1 = df[c1 & c2 & c3 & c4]\n",
    "\n",
    "sns.stripplot(data=df_1['minute'], orient = \"h\", jitter = True)"
   ]
  },
  {
   "attachments": {},
   "cell_type": "markdown",
   "metadata": {},
   "source": [
    "## Histogram"
   ]
  },
  {
   "cell_type": "code",
   "execution_count": 34,
   "metadata": {},
   "outputs": [
    {
     "ename": "TypeError",
     "evalue": "Cannot perform 'ror_' with a dtyped [object] array and scalar of type [bool]",
     "output_type": "error",
     "traceback": [
      "\u001b[0;31m---------------------------------------------------------------------------\u001b[0m",
      "\u001b[0;31mTypeError\u001b[0m                                 Traceback (most recent call last)",
      "File \u001b[0;32m~/miniconda3/envs/socialdata/lib/python3.9/site-packages/pandas/core/ops/array_ops.py:305\u001b[0m, in \u001b[0;36mna_logical_op\u001b[0;34m(x, y, op)\u001b[0m\n\u001b[1;32m    296\u001b[0m \u001b[39mtry\u001b[39;00m:\n\u001b[1;32m    297\u001b[0m     \u001b[39m# For exposition, write:\u001b[39;00m\n\u001b[1;32m    298\u001b[0m     \u001b[39m#  yarr = isinstance(y, np.ndarray)\u001b[39;00m\n\u001b[0;32m   (...)\u001b[0m\n\u001b[1;32m    303\u001b[0m     \u001b[39m# Then Cases where this goes through without raising include:\u001b[39;00m\n\u001b[1;32m    304\u001b[0m     \u001b[39m#  (xint or xbool) and (yint or bool)\u001b[39;00m\n\u001b[0;32m--> 305\u001b[0m     result \u001b[39m=\u001b[39m op(x, y)\n\u001b[1;32m    306\u001b[0m \u001b[39mexcept\u001b[39;00m \u001b[39mTypeError\u001b[39;00m:\n",
      "File \u001b[0;32m~/miniconda3/envs/socialdata/lib/python3.9/site-packages/pandas/core/roperator.py:58\u001b[0m, in \u001b[0;36mror_\u001b[0;34m(left, right)\u001b[0m\n\u001b[1;32m     57\u001b[0m \u001b[39mdef\u001b[39;00m \u001b[39mror_\u001b[39m(left, right):\n\u001b[0;32m---> 58\u001b[0m     \u001b[39mreturn\u001b[39;00m operator\u001b[39m.\u001b[39;49mor_(right, left)\n",
      "\u001b[0;31mTypeError\u001b[0m: unsupported operand type(s) for |: 'str' and 'str'",
      "\nDuring handling of the above exception, another exception occurred:\n",
      "\u001b[0;31mTypeError\u001b[0m                                 Traceback (most recent call last)",
      "File \u001b[0;32m~/miniconda3/envs/socialdata/lib/python3.9/site-packages/pandas/core/ops/array_ops.py:319\u001b[0m, in \u001b[0;36mna_logical_op\u001b[0;34m(x, y, op)\u001b[0m\n\u001b[1;32m    318\u001b[0m \u001b[39mtry\u001b[39;00m:\n\u001b[0;32m--> 319\u001b[0m     result \u001b[39m=\u001b[39m libops\u001b[39m.\u001b[39;49mscalar_binop(x, y, op)\n\u001b[1;32m    320\u001b[0m \u001b[39mexcept\u001b[39;00m (\n\u001b[1;32m    321\u001b[0m     \u001b[39mTypeError\u001b[39;00m,\n\u001b[1;32m    322\u001b[0m     \u001b[39mValueError\u001b[39;00m,\n\u001b[0;32m   (...)\u001b[0m\n\u001b[1;32m    325\u001b[0m     \u001b[39mNotImplementedError\u001b[39;00m,\n\u001b[1;32m    326\u001b[0m ) \u001b[39mas\u001b[39;00m err:\n",
      "File \u001b[0;32m~/miniconda3/envs/socialdata/lib/python3.9/site-packages/pandas/_libs/ops.pyx:210\u001b[0m, in \u001b[0;36mpandas._libs.ops.scalar_binop\u001b[0;34m()\u001b[0m\n",
      "File \u001b[0;32m~/miniconda3/envs/socialdata/lib/python3.9/site-packages/pandas/core/roperator.py:58\u001b[0m, in \u001b[0;36mror_\u001b[0;34m(left, right)\u001b[0m\n\u001b[1;32m     57\u001b[0m \u001b[39mdef\u001b[39;00m \u001b[39mror_\u001b[39m(left, right):\n\u001b[0;32m---> 58\u001b[0m     \u001b[39mreturn\u001b[39;00m operator\u001b[39m.\u001b[39;49mor_(right, left)\n",
      "\u001b[0;31mTypeError\u001b[0m: unsupported operand type(s) for |: 'bool' and 'str'",
      "\nThe above exception was the direct cause of the following exception:\n",
      "\u001b[0;31mTypeError\u001b[0m                                 Traceback (most recent call last)",
      "Cell \u001b[0;32mIn[34], line 2\u001b[0m\n\u001b[1;32m      1\u001b[0m c1 \u001b[39m=\u001b[39m (df[\u001b[39m\"\u001b[39m\u001b[39mTimestamp\u001b[39m\u001b[39m\"\u001b[39m] \u001b[39m>\u001b[39m \u001b[39m\"\u001b[39m\u001b[39m10/30/2017\u001b[39m\u001b[39m\"\u001b[39m)\n\u001b[0;32m----> 2\u001b[0m c2 \u001b[39m=\u001b[39m (df[\u001b[39m\"\u001b[39m\u001b[39mCategory\u001b[39m\u001b[39m\"\u001b[39m] \u001b[39m==\u001b[39m \u001b[39m\"\u001b[39;49m\u001b[39mASSAULT\u001b[39;49m\u001b[39m\"\u001b[39;49m \u001b[39m|\u001b[39;49m df[\u001b[39m\"\u001b[39;49m\u001b[39mCategory\u001b[39;49m\u001b[39m\"\u001b[39;49m] \u001b[39m==\u001b[39m \u001b[39m\"\u001b[39m\u001b[39mARSON\u001b[39m\u001b[39m\"\u001b[39m)\n\u001b[1;32m      5\u001b[0m df_2 \u001b[39m=\u001b[39m df[c1 \u001b[39m&\u001b[39m c2]\n",
      "File \u001b[0;32m~/miniconda3/envs/socialdata/lib/python3.9/site-packages/pandas/core/ops/common.py:72\u001b[0m, in \u001b[0;36m_unpack_zerodim_and_defer.<locals>.new_method\u001b[0;34m(self, other)\u001b[0m\n\u001b[1;32m     68\u001b[0m             \u001b[39mreturn\u001b[39;00m \u001b[39mNotImplemented\u001b[39m\n\u001b[1;32m     70\u001b[0m other \u001b[39m=\u001b[39m item_from_zerodim(other)\n\u001b[0;32m---> 72\u001b[0m \u001b[39mreturn\u001b[39;00m method(\u001b[39mself\u001b[39;49m, other)\n",
      "File \u001b[0;32m~/miniconda3/envs/socialdata/lib/python3.9/site-packages/pandas/core/arraylike.py:84\u001b[0m, in \u001b[0;36mOpsMixin.__ror__\u001b[0;34m(self, other)\u001b[0m\n\u001b[1;32m     82\u001b[0m \u001b[39m@unpack_zerodim_and_defer\u001b[39m(\u001b[39m\"\u001b[39m\u001b[39m__ror__\u001b[39m\u001b[39m\"\u001b[39m)\n\u001b[1;32m     83\u001b[0m \u001b[39mdef\u001b[39;00m \u001b[39m__ror__\u001b[39m(\u001b[39mself\u001b[39m, other):\n\u001b[0;32m---> 84\u001b[0m     \u001b[39mreturn\u001b[39;00m \u001b[39mself\u001b[39;49m\u001b[39m.\u001b[39;49m_logical_method(other, roperator\u001b[39m.\u001b[39;49mror_)\n",
      "File \u001b[0;32m~/miniconda3/envs/socialdata/lib/python3.9/site-packages/pandas/core/series.py:6254\u001b[0m, in \u001b[0;36mSeries._logical_method\u001b[0;34m(self, other, op)\u001b[0m\n\u001b[1;32m   6251\u001b[0m lvalues \u001b[39m=\u001b[39m \u001b[39mself\u001b[39m\u001b[39m.\u001b[39m_values\n\u001b[1;32m   6252\u001b[0m rvalues \u001b[39m=\u001b[39m extract_array(other, extract_numpy\u001b[39m=\u001b[39m\u001b[39mTrue\u001b[39;00m, extract_range\u001b[39m=\u001b[39m\u001b[39mTrue\u001b[39;00m)\n\u001b[0;32m-> 6254\u001b[0m res_values \u001b[39m=\u001b[39m ops\u001b[39m.\u001b[39;49mlogical_op(lvalues, rvalues, op)\n\u001b[1;32m   6255\u001b[0m \u001b[39mreturn\u001b[39;00m \u001b[39mself\u001b[39m\u001b[39m.\u001b[39m_construct_result(res_values, name\u001b[39m=\u001b[39mres_name)\n",
      "File \u001b[0;32m~/miniconda3/envs/socialdata/lib/python3.9/site-packages/pandas/core/ops/array_ops.py:395\u001b[0m, in \u001b[0;36mlogical_op\u001b[0;34m(left, right, op)\u001b[0m\n\u001b[1;32m    391\u001b[0m \u001b[39m# For int vs int `^`, `|`, `&` are bitwise operators and return\u001b[39;00m\n\u001b[1;32m    392\u001b[0m \u001b[39m#   integer dtypes.  Otherwise these are boolean ops\u001b[39;00m\n\u001b[1;32m    393\u001b[0m filler \u001b[39m=\u001b[39m fill_int \u001b[39mif\u001b[39;00m is_self_int_dtype \u001b[39mand\u001b[39;00m is_other_int_dtype \u001b[39melse\u001b[39;00m fill_bool\n\u001b[0;32m--> 395\u001b[0m res_values \u001b[39m=\u001b[39m na_logical_op(lvalues, rvalues, op)\n\u001b[1;32m    396\u001b[0m \u001b[39m# error: Cannot call function of unknown type\u001b[39;00m\n\u001b[1;32m    397\u001b[0m res_values \u001b[39m=\u001b[39m filler(res_values)  \u001b[39m# type: ignore[operator]\u001b[39;00m\n",
      "File \u001b[0;32m~/miniconda3/envs/socialdata/lib/python3.9/site-packages/pandas/core/ops/array_ops.py:328\u001b[0m, in \u001b[0;36mna_logical_op\u001b[0;34m(x, y, op)\u001b[0m\n\u001b[1;32m    320\u001b[0m         \u001b[39mexcept\u001b[39;00m (\n\u001b[1;32m    321\u001b[0m             \u001b[39mTypeError\u001b[39;00m,\n\u001b[1;32m    322\u001b[0m             \u001b[39mValueError\u001b[39;00m,\n\u001b[0;32m   (...)\u001b[0m\n\u001b[1;32m    325\u001b[0m             \u001b[39mNotImplementedError\u001b[39;00m,\n\u001b[1;32m    326\u001b[0m         ) \u001b[39mas\u001b[39;00m err:\n\u001b[1;32m    327\u001b[0m             typ \u001b[39m=\u001b[39m \u001b[39mtype\u001b[39m(y)\u001b[39m.\u001b[39m\u001b[39m__name__\u001b[39m\n\u001b[0;32m--> 328\u001b[0m             \u001b[39mraise\u001b[39;00m \u001b[39mTypeError\u001b[39;00m(\n\u001b[1;32m    329\u001b[0m                 \u001b[39mf\u001b[39m\u001b[39m\"\u001b[39m\u001b[39mCannot perform \u001b[39m\u001b[39m'\u001b[39m\u001b[39m{\u001b[39;00mop\u001b[39m.\u001b[39m\u001b[39m__name__\u001b[39m\u001b[39m}\u001b[39;00m\u001b[39m'\u001b[39m\u001b[39m with a dtyped [\u001b[39m\u001b[39m{\u001b[39;00mx\u001b[39m.\u001b[39mdtype\u001b[39m}\u001b[39;00m\u001b[39m] array \u001b[39m\u001b[39m\"\u001b[39m\n\u001b[1;32m    330\u001b[0m                 \u001b[39mf\u001b[39m\u001b[39m\"\u001b[39m\u001b[39mand scalar of type [\u001b[39m\u001b[39m{\u001b[39;00mtyp\u001b[39m}\u001b[39;00m\u001b[39m]\u001b[39m\u001b[39m\"\u001b[39m\n\u001b[1;32m    331\u001b[0m             ) \u001b[39mfrom\u001b[39;00m \u001b[39merr\u001b[39;00m\n\u001b[1;32m    333\u001b[0m \u001b[39mreturn\u001b[39;00m result\u001b[39m.\u001b[39mreshape(x\u001b[39m.\u001b[39mshape)\n",
      "\u001b[0;31mTypeError\u001b[0m: Cannot perform 'ror_' with a dtyped [object] array and scalar of type [bool]"
     ]
    }
   ],
   "source": [
    "c1 = (df[\"Timestamp\"] > \"10/30/2017\")\n",
    "c2 = (df[\"Category\"] == \"ASSAULT\" | df[\"Category\"] == \"ARSON\")\n",
    "\n",
    "\n",
    "df_2 = df[c1 & c2]"
   ]
  },
  {
   "attachments": {},
   "cell_type": "markdown",
   "metadata": {},
   "source": [
    "\n",
    "> Let's take a break. Get some coffee or water. Stretch your legs. Talk to your friends for a bit. Breathe. Get relaxed so you're ready for the second part of the exercise. \n",
    ">\n",
    "> \n",
    "> *Excercise Part 2*:\n",
    ">\n",
    "> * Now we'll work on creating two versions of the plot in **Figure 2-11**, but using the GPS data you used for your version of Figure 2-2. Comment on the result. It is not easy to create this plot from scracth.    \n",
    ">   * **Hint:** Take a look at the `scipy.stats.probplot` function. \n",
    "> * OK, we're almost done, but we need some box plots. Here, I'd like you to use the box plots to visualize fluctuations of how many crimes happen per day. We'll use data from the 15 focus crimes defined last week.\n",
    ">   * For the full time-span of the data, calulate the **number of crimes per day** within each category for the entire duration of the data.\n",
    ">   * Create a box-and whiskers plot showing the mean, median, quantiles, etc for all 15 crime-types side-by-side. There are many ways to do this. I like to use [matplotlibs's built in functionality](https://matplotlib.org/stable/api/_as_gen/matplotlib.pyplot.boxplot.html), but you can also achieve good results with [seaborn](https://seaborn.pydata.org/generated/seaborn.boxplot.html) or [pandas](https://pandas.pydata.org/docs/reference/api/pandas.DataFrame.boxplot.html).\n",
    ">   * What does this plot reveal that you can't see in the plots from last time?\n",
    "> * Also I want to show you guys another interesting use of box plots. To get started, let's calculate another average for each focus-crime, namely what time of day the crime happens. So this time, the distribution we want to plot is the average time-of-day that a crime takes place. There are many ways to do this, but let me describe one way to do it. \n",
    ">   * For datapoint, the only thing you care about is the time-of-day, so discard everything else.\n",
    ">   * You also have to deal with the fact that time is annoyingly not divided into nice units that go to 100 like many other numbers. I can think of two ways to deal with this.\n",
    ">     * For each time-of-day, simply encode it as seconds since midnight.\n",
    ">     * Or keep each whole hour, and convert the minute/second count to a percentage of an hour. So 10:15 $\\rightarrow$ 10.25, 8:40 $\\rightarrow$ 8.67, etc.\n",
    "> * Now you can create box-plots to create an overview of *when various crimes occur*. Note that these plot have quite a different interpretation than ones we created in the previous exercise. Cool, right?  "
   ]
  },
  {
   "cell_type": "markdown",
   "metadata": {},
   "source": [
    "## Part 4: Visualizing geodata with Plotly\n",
    "\n",
    "So visualizing geodata used to be difficult, but with `Plotly` things have gotten easier. \n",
    "\n",
    "Like matplotlib, Plotly is an [open-source data visualization library](https://plotly.com/python/), but it's aimed at making interactive visualizations that can be rendered in a web browser (or jupyter notebook). You can read about it and learn how to install it [here](https://plotly.com/python/getting-started/).\n",
    "\n",
    "That means that we can easily draw on the fact that the crime data has lots of exciting geo-data attached. The map we're going to be creating is called a **[choropleth map](https://en.wikipedia.org/wiki/Choropleth_map)** (more on these later), which is basically a map, where we color in shapefiles (more on this below) based on some value that we care about. We'll take our inspiration from Plotly's gentle intro to [Choropleth maps](https://plotly.com/python/mapbox-county-choropleth/)\n",
    "\n",
    "The thing we want to look into is the SF police districts, shown below (image stolen from [this page](https://hoodline.com/2015/07/citywide-sfpd-redistricting-to-take-effect-sunday/)).\n",
    "\n",
    "![districts from web](https://raw.githubusercontent.com/suneman/socialdata2021/master/files/sfpdfinal.png)\n",
    "\n",
    "But because we are cool programmers, we want to create our own maps, **with our own information on them**. Let's do it!\n",
    "\n",
    "> *Exercise*: Let's plot a map with some random values in it.\n",
    ">\n",
    "> What we need to do to get going is to create some random data. Below is a little dictionary with a random value for each district that you can use if you want your plots to look like mine."
   ]
  },
  {
   "cell_type": "code",
   "execution_count": 1,
   "metadata": {},
   "outputs": [],
   "source": [
    "randomdata = {'CENTRAL': 0.8903601342256143,\n",
    " 'SOUTHERN': 0.8642882941363439,\n",
    " 'BAYVIEW': 0.925634097746596,\n",
    " 'MISSION': 0.7369022697287458,\n",
    " 'PARK': 0.9864113307070926,\n",
    " 'RICHMOND': 0.5422239624697017,\n",
    " 'INGLESIDE': 0.5754056712571605,\n",
    " 'TARAVAL': 0.5834730737348696,\n",
    " 'NORTHERN': 0.08148199528212985,\n",
    " 'TENDERLOIN': 0.37014287986350447};"
   ]
  },
  {
   "cell_type": "markdown",
   "metadata": {},
   "source": [
    "> *Exercise* (continued):\n",
    ">\n",
    "> For this exercise, we'll use use the random values above and we'll also need some *shape-files*.\n",
    "> [Shapefiles can have many different formats](https://en.wikipedia.org/wiki/Shapefile). Because we are brilliant teachers and an all-round standup people, we are sharing the shapefiles as [`geojson`](https://en.wikipedia.org/wiki/GeoJSON), which is an easy-to-use format for shapefiles based on `json`.\n",
    ">\n",
    "> * Download the SFPD District shapefiles **[here](https://raw.githubusercontent.com/suneman/socialdata2022/main/files/sfpd.geojson)**\n",
    "> * Now that you have the shapefiles, you can follow the example here: https://plotly.com/python/mapbox-county-choropleth/ but with the following modifications:\n",
    ">    * In the example the `id` is a so-called FIPS code. In our case the `id` is the `DISTRICT`\n",
    ">    * You will have to convert the dictionary of random values I included above to a Pandas dataframe with the right column headings.\n",
    ">    * The data used in the example has a range between zero and 12. Your data is between $[0,1]$. So you'll need to modify the plotting command to accound for that change.\n",
    ">    * You should also change the map to display the right zoom level.\n",
    ">    * And the map should center on San Francisco's `lat` and `lon`.\n",
    "> * Now you can create your map.\n",
    "\n",
    "Mine looks something like this.\n",
    "\n",
    "![map_example.png](https://raw.githubusercontent.com/suneman/socialdata2021/master/files/map_example.png)\n",
    "\n",
    "You're encouraged to play around with other settings, color schemes, etc."
   ]
  },
  {
   "cell_type": "markdown",
   "metadata": {},
   "source": [
    "> *Exercise:* But it's crime-data. Let's do something useful and **visualize where it is safest to leave your car on a Sunday**.\n",
    "> \n",
    "> Take a moment to congratulate yourself. You now know how to create cool map plots!\n",
    "> * Now, we can focus on our main goal: *determine the districts where you should (and should not) leave your car on Sundays*. (Or stated differently, count up the number of thefts.)\n",
    "> * To do so, first:\n",
    ">  * Filter the crime dataset by the `DayOfWeek` category and also choose the appropriate crime category.\n",
    ">  * Aggregate data by police district.\n",
    "> * To create the plot, remember that your range of data-values is different from before, so you'll have to change the plotly command a bit.\n",
    "> * **Based on your map and analysis, where should you park the car for it to be safest on a Sunday? And where's the worst place?**\n",
    "> * Using visualizatios can help us uncover powerful data-patterns. However, when designing visualizations, we need to be aware of several illusions that can lead viewers to misinterpret the data we are showing (i.e. *perceptual errors*):\n",
    ">    * Try to change the range of data-values in the plot above. Is there a way to make the difference between district less evident? \n",
    ">    * Why do you think perceptual errors are a problem? Try to think of a few examples. You can have a look at this [article](https://www.businessinsider.com/fox-news-obamacare-chart-2014-3?r=US&IR=T) to get some inspiration.\n",
    "> * *Try this for Extra credit:*\n",
    ">     * Create plots for the same crime type, but different days, and comment on the results."
   ]
  },
  {
   "cell_type": "code",
   "execution_count": null,
   "metadata": {},
   "outputs": [],
   "source": []
  }
 ],
 "metadata": {
  "kernelspec": {
   "display_name": "socialdata",
   "language": "python",
   "name": "python3"
  },
  "language_info": {
   "codemirror_mode": {
    "name": "ipython",
    "version": 3
   },
   "file_extension": ".py",
   "mimetype": "text/x-python",
   "name": "python",
   "nbconvert_exporter": "python",
   "pygments_lexer": "ipython3",
   "version": "3.9.16"
  },
  "vscode": {
   "interpreter": {
    "hash": "9b9315f95745a5791aeab84d607df543b0a11756a642ea248ba883f5d97da62c"
   }
  }
 },
 "nbformat": 4,
 "nbformat_minor": 2
}
