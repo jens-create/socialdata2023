{
 "cells": [
  {
   "cell_type": "markdown",
   "metadata": {},
   "source": [
    "## Intro\n",
    "\n",
    "The purpose of today's class is to explore data using **interactive visualizations**. Interactivity is a key part of modern dataviz. It's a way to allow users of your visualizations get their own feel for the data ... to create richer visualization, where people who use your work can expose more of the data by exploring.\n"
   ]
  },
  {
   "cell_type": "markdown",
   "metadata": {},
   "source": [
    "## Part 1: Video Lectures and Reading\n",
    "\n",
    "Starting this week, we'll be playing around with *explanatory data visualization*. Roughly speaking this means using data visualization to communicate your results to others. Thus, there are new things to think about. \n",
    "\n",
    "Until today we have worked with static data visualization. However, exploratory data analysis means to be able to explore the multi-faceted nature of data and *interactive dataviz* is a handy tool to do it! It allows to play with the data: Toggle the view. Zoom. Drag. Show more details. All those things. Those are a key part of modern data visualization. \n",
    "\n",
    "The video below provides context about these points.\n",
    "\n",
    "We start with the video and then read a bit from a scientific article about types of explanatory dataviz. (*The video is from an old version of the class that used D3, so just ignore those parts.*).\n",
    "\n",
    "[![IMAGE ALT TEXT HERE](https://img.youtube.com/vi/yHKYMGwefso/0.jpg)](https://www.youtube.com/watch?v=yHKYMGwefso)"
   ]
  },
  {
   "cell_type": "markdown",
   "metadata": {},
   "source": [
    "> *Exercises*: Explanatory data visualization\n",
    "> * What are the three key elements to keep in mind when you design an explanatory visualization?\n",
    "> * In the video I talk about (1) *overview first*,  (2) *zoom and filter*,  (3) *details on demand*. \n",
    ">   - Go online and find a visualization that follows these principles (don't use one from the video). \n",
    ">   - Explain how your video achieves (1)-(3). It might be useful to use screenshots to illustrate your explanation.\n",
    "> * Explain in your own words: How is explanatory data analysis different from exploratory data analysis?"
   ]
  },
  {
   "cell_type": "markdown",
   "metadata": {},
   "source": [
    "## Part 2: Interactive visualizations with Bokeh\n",
    "\n",
    "\n",
    "\n",
    "To really master interactive visualizations, you will need to work with JavaScript, especially [D3](https://d3js.org). Given the limited time available for this class, we can't squeeze that in. But luckily Python has some pretty good options for interactive visualizations. You can find a range of different options [here](https://mode.com/blog/python-interactive-plot-libraries/).\n",
    "\n",
    "Today, we'll explore [`Bokeh`](https://docs.bokeh.org/en/latest/), which provides lots of nice interactive funtionalities to Python. To work with Bokeh, we first set up our system:\n",
    "\n",
    "1. If you haven't installed it yet please do so. You can simply follow [these steps](https://docs.bokeh.org/en/latest/docs/first_steps/installation.html)\n",
    "\n",
    "2. To include Bokeh in your notebooks you can follow the [Bokeh: Using with Jupyter](https://docs.bokeh.org/en/latest/docs/user_guide/output/jupyter.html#jupyter) guide. Come back to this one when you need it\n",
    "\n",
    "3. We aim to give you a gentle start with Bokeh and I am going to include more example codes than usual in the follwing. However, to get a sense of how things work, I suggest you surf the web, find a Bokeh tutorial and scan through it. Also click around a bit in [the official docs](https://docs.bokeh.org/en/latest/docs/user_guide.html#userguide)."
   ]
  },
  {
   "cell_type": "markdown",
   "metadata": {},
   "source": [
    "Ok. Let's get started. First a general announcement on the data.\n",
    "\n",
    "> **Announcement**\n",
    "> * During this entire lecture, as always, we are going to work with the SF Crime Data. \n",
    "> * We will use data for the **period 2010-2017***.\n",
    "\n",
    "\n",
    "Now, to get you in the mood here's a little gif to illustrate what the goal of this exercise is:"
   ]
  },
  {
   "cell_type": "markdown",
   "metadata": {},
   "source": [
    "![Movie](https://github.com/suneman/socialdata2021/blob/main/files/week8_1.gif?raw=true)"
   ]
  },
  {
   "cell_type": "markdown",
   "metadata": {},
   "source": [
    "\n",
    "> ***Exercise***: Recreate the results from **Week 2** as an interactive visualisation (shown in the gif). To complete the exercise, follow the steps below to create your own version of the dataviz.\n",
    "\n",
    "### Data prep\n",
    "\n",
    "A key step is to set up the data right. So for this one, we'll be pretty strict about the steps. The workflow is\n",
    "\n",
    "1. Take the data for the period of 2010-2017 and group it by hour-of-the-day.\n",
    "2. We would like to be able to easily compare how the distribution of crimes differ from each other, not absolute numbers, so we will work on *normalized data*:\n",
    "    * To normalise data for within a crime category you simply to devide the count for each hour by the total number of this crime type. (To give a concrete example in the `ASSAULT` category, take the number of assault-counts in 1st hour you should devide by the total number of assaults, then you devide number of assaults in 2nd hour by the total number of assaults and so on)\n",
    "    *  Your life will be easiest if you organize your dataframe as shown in [this helpful screenshot](https://github.com/suneman/socialdataanalysis2020/blob/master/files/week8_1_data.PNG?raw=true).\n",
    "\n",
    "If you've followed these steps, your data should be ready! Take a moment to celebrate. We now follow the [Bokeh guide for categorical data](https://docs.bokeh.org/en/latest/docs/user_guide/basic/bars.html):\n",
    "\n",
    "\n",
    "\n",
    "1. First, let's convert our **Pandas Dataframe** to **Bokeh ColumnDataSource**: \n",
    "  > ```python\n",
    "  > source = ColumnDataSource(your_processed_dataframe)\n",
    "  > ## it is a standard way to convert your df to bokeh\n",
    "  > ```\n",
    "2. We also need to create an empty figure (we will add our stuff here later on). Mini sub-exercise: Find the a guide how to define a figure in Bokeh online. Here is a little help:\n",
    "  > ```python\n",
    "  > p = figure(...., x_range = FactorRange(factors=hours), ...) \n",
    "  > #p is a standard way to call figures in Bokeh\n",
    "  > #make sure to add x_range. In my case hours is a list on the form ['1', '2', '3' ... , '24']\n",
    "  > #read up on the FactorRange in the guide\n",
    "  > #do not forget to add other attributes to the figure, e.g. title, axis names and so on\n",
    "  > ```\n",
    "3. Now we are going to add the bars. In order to do so, we will use **vbar** (see the guide for help):\n",
    "  > ```python\n",
    "  > bar ={} # to store vbars\n",
    "  > ### here we will do a for loop:\n",
    "  > for indx,i in enumerate(focuscrimes):\n",
    "  >     bar[i] = p.vbar(x='name_of_the_column_that_contain_hours',  top=i, source= src, \n",
    "  >                     ### we will create a vbar for each focuscrime\n",
    "  >                     legend_label=i,  muted_alpha=..., muted = ....) \n",
    "  > #i stands for a column that we use, top=y; we are specifying that our numbers comes from column i\n",
    "  > #read up what legend_label, muted and muted_alpha do... you can add more attributes (you HAVE TO)\n",
    "  > ```\n",
    "4. The last thing to do is to make your legend interactive and display the figure:\n",
    "  > ```python\n",
    "  > p.legend.click_policy=\"mute\" ### assigns the click policy (you can try to use ''hide'\n",
    "  > show(p) #displays your plot\n",
    "  > ```\n",
    "5. You will notice that the legend appears in the middle of the figure (and it occludes some of the data). In order to fix this look into [this guide](https://stackoverflow.com/questions/26254619/position-of-the-legend-in-a-bokeh-plot) as a start. Below are some code snippets that you can use to deal with this problem (but read the guide first):\n",
    "  > ```python\n",
    "  > items = [] ### for the custom legend // you need to figure out where to add it\n",
    "  > items.append((i, [bar[i]])) ### figure where to add it\n",
    "  > legend = Legend(items=..., location=.....) ## figure where to add it\n",
    "  > p.add_layout(...., ...) ## figure where to add it\n",
    "  > ### if you read the guide, it will make sense\n",
    "  > ```\n",
    "\n",
    "Now you should be able to recreate this amazing visualisation.\n",
    "\n",
    "\n",
    "**EXTRA feature**: If you're interested in detailed instructions for more Bokeh visualizations for your final project, you can find more inspiration **[here](https://github.com/suneman/socialdata2021/blob/main/lectures/Week8_extra_bokeh.ipynb)**."
   ]
  },
  {
   "cell_type": "markdown",
   "metadata": {},
   "source": [
    "## Part 3: Narrative Dataviz\n",
    "\n",
    "Let's finish up with some reading\n",
    "\n",
    "*Reading*: [Narrative Visualization: Telling Stories with Data](http://vis.stanford.edu/files/2010-Narrative-InfoVis.pdf) by Edward Segel and Jeffrey Heer. We'll read section 1-3 today. (And the rest a bit later).\n",
    "\n",
    "When you get to section 3 it's fun to open up the examples mentioned by the authors in a browser and explore them as you read the text. \n",
    "\n",
    "> *Exercise*: Answer a couple of questions about the paper.\n",
    "> \n",
    "> * What is the *Oxford English Dictionary's* defintion of a narrative?\n",
    "> * What is your favorite visualization among the examples in section 3? Explain why in a few words."
   ]
  },
  {
   "cell_type": "code",
   "execution_count": null,
   "metadata": {},
   "outputs": [],
   "source": []
  }
 ],
 "metadata": {
  "kernelspec": {
   "display_name": "socialdata",
   "language": "python",
   "name": "python3"
  },
  "language_info": {
   "codemirror_mode": {
    "name": "ipython",
    "version": 3
   },
   "file_extension": ".py",
   "mimetype": "text/x-python",
   "name": "python",
   "nbconvert_exporter": "python",
   "pygments_lexer": "ipython3",
   "version": "3.9.16"
  },
  "vscode": {
   "interpreter": {
    "hash": "9b9315f95745a5791aeab84d607df543b0a11756a642ea248ba883f5d97da62c"
   }
  }
 },
 "nbformat": 4,
 "nbformat_minor": 4
}
