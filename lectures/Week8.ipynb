{
 "cells": [
  {
   "cell_type": "markdown",
   "id": "b56559f4",
   "metadata": {},
   "source": [
    "# Intro\n",
    "\n",
    "Ok. As we're warming up to the project, today's exercises is going to ask you to create our own micro-project. It'll be highly structured and hosted on the web-page you created last time. Before we can start on that there's a bit of reading first. \n",
    "\n",
    "Thus, today's lecture has two parts:\n",
    "\n",
    "* More reading on Narrative Data Visualization.\n",
    "* Creating a micro project based on our work in the class so far.\n",
    "\n",
    "So let's get started 😀"
   ]
  },
  {
   "cell_type": "markdown",
   "id": "97e62ae9",
   "metadata": {},
   "source": [
    "## Part 1: More on narrative data viz\n",
    "\n",
    "*Reading*. More on Narrative Visualization. Edward Segel and Jeffrey Heer. [Narrative Visualization: Telling Stories with Data](http://vis.stanford.edu/files/2010-Narrative-InfoVis.pdf), section 4-6.\n",
    "\n",
    "> *Exercise*: Questions to the text\n",
    "> \n",
    "> * What's the point of Figure 7?\n",
    "> * Use Figure 7 to find the most common design choice within each category for the Visual narrative and Narrative structure (the categories within visual narrative are 'visual structuring', 'highlighting', etc).\n",
    "> * Check out Figure 8 and section 4.3. What is your favorite genre of narrative visualization? Why? What is your least favorite genre? Why?"
   ]
  },
  {
   "cell_type": "markdown",
   "id": "5e028942",
   "metadata": {},
   "source": [
    "## Part 2: A short data story / micro-project\n",
    "\n",
    "> *Exercise*: Create a short data-story based on the work we've done in class so far. (This exercise is a kind of \"micro version\" of what we'll be doing in the final project). Follow the directions in the bulleted list below when you create your data-story.\n",
    "\n",
    "* **Find your own story to tell in the work on analyzing the SF Crime Data that we've done so far** (Week 1 - Week 6). The idea is to choose an insight about crime in SF (perhaps how something changed over the years) and communicate that insight to a general audience reader.\n",
    "* The web-page should be hosted on your GitHub Pages site (Week 7).\n",
    "* The format must be the classic *Magazine Genre* presented on a single web-page (see the Segel \\& Heer paper for details.\n",
    "* The story should have a brief introduction to the dataset so new readers from outside the class can understand what's going on.\n",
    "* Your story should include three visualizations. Not more than three, not less than three (but multi-panel figures are OK). The figures should be one of each of the following types\n",
    "  - One time-series / bar chart (it's OK to use the \"fancy\" plot-typs like calendar plots or polar bar-charts from Week 2, Part 4).\n",
    "  - One map (use techniques from Week 3 and 4)\n",
    "  - One interactive visualization in Bokeh (Week 6)\n",
    "* **At a minimum, the Bokeh visualization should contain different data** than the exercise we did for Week 6 (it's a plus if it's a new type of viz altogether). \n",
    "* The two other visualization may be repetitions of figures created during the previous lectures, or they may be new.\n",
    "* Make the figures nice. Specifically:\n",
    "  - Aim to make the figures visually consistent (color, fonts, etc)\n",
    "  - Follow the recommendations from my video on nice figures (Week 2)\n",
    "* In terms of the amount of text, I envision something like 500-1500 words (including figure captions).\n",
    "* It is a plus if you can back up some of your findings with external sources, such as news stories from the area, looking up which building is located at some set of `lat,lon` coordinates, or similar. (So when you see something happening at some time/place in the data, see if you can understand it more deeply by investigating outside the dataset.)"
   ]
  },
  {
   "cell_type": "code",
   "execution_count": null,
   "id": "2555fbf8",
   "metadata": {},
   "outputs": [],
   "source": []
  }
 ],
 "metadata": {
  "kernelspec": {
   "display_name": "Python 3 (ipykernel)",
   "language": "python",
   "name": "python3"
  },
  "language_info": {
   "codemirror_mode": {
    "name": "ipython",
    "version": 3
   },
   "file_extension": ".py",
   "mimetype": "text/x-python",
   "name": "python",
   "nbconvert_exporter": "python",
   "pygments_lexer": "ipython3",
   "version": "3.9.16"
  }
 },
 "nbformat": 4,
 "nbformat_minor": 5
}
